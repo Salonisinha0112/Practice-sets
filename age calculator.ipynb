{
 "cells": [
  {
   "cell_type": "markdown",
   "id": "40bba5e6",
   "metadata": {},
   "source": [
    "# Age calculator"
   ]
  },
  {
   "cell_type": "code",
   "execution_count": 1,
   "id": "9a9808b0",
   "metadata": {},
   "outputs": [],
   "source": [
    "from datetime import date"
   ]
  },
  {
   "cell_type": "code",
   "execution_count": 15,
   "id": "26ae20f7",
   "metadata": {},
   "outputs": [
    {
     "name": "stdout",
     "output_type": "stream",
     "text": [
      "enter your birth day3\n",
      "enter your birth month5\n",
      "enter your birth year2000\n",
      "your exact age is:23year,-4month,10,day\n"
     ]
    }
   ],
   "source": [
    "birth_day=int(input(\"enter your birth day\"))\n",
    "birth_month=int(input(\"enter your birth month\"))\n",
    "birth_year=int(input(\"enter your birth year\"))\n",
    "\n",
    "currentday=date.today().day\n",
    "current_month=date.today().month\n",
    "current_year=date.today().year\n",
    "\n",
    "Age_day=currentday-birth_day\n",
    "Age_month=current_month-birth_month\n",
    "Age_year=current_year-birth_year\n",
    "\n",
    "if birth_month>current_month:\n",
    "    (current_month-birth_month)-1\n",
    "    \n",
    "else:\n",
    "    12-(current_month-birth_month)\n",
    "    \n",
    "print(f\"your exact age is:{Age_year}year,{Age_month}month,{Age_day},day\")"
   ]
  },
  {
   "cell_type": "code",
   "execution_count": 16,
   "id": "cee86a43",
   "metadata": {},
   "outputs": [
    {
     "name": "stdout",
     "output_type": "stream",
     "text": [
      "your age in year is:23years\n"
     ]
    }
   ],
   "source": [
    "from datetime import date\n",
    "\n",
    "def calculate_age(birthdate):\n",
    "    current_date=date.today()\n",
    "    age=current_date.year-birthdate.year\n",
    "    return age\n",
    "age=calculate_age(date(2000,1,12))\n",
    "print(f\"your age in year is:{age}years\")"
   ]
  },
  {
   "cell_type": "code",
   "execution_count": 8,
   "id": "f7b59cd9",
   "metadata": {},
   "outputs": [
    {
     "name": "stdout",
     "output_type": "stream",
     "text": [
      "enter the number7\n",
      "a\n",
      "ab\n",
      "abc\n",
      "abcd\n",
      "abcde\n",
      "abcdef\n",
      "abcdefg\n"
     ]
    }
   ],
   "source": [
    "n=int(input(\"enter the number\"))\n",
    "for i in range(97,97+n):\n",
    "    for j in range(97,1+i):\n",
    "        print(chr(j),end=\"\")\n",
    "    print()  "
   ]
  },
  {
   "cell_type": "code",
   "execution_count": 9,
   "id": "11bc7f2b",
   "metadata": {},
   "outputs": [
    {
     "name": "stdout",
     "output_type": "stream",
     "text": [
      "enter the number6\n",
      "a\n",
      "bb\n",
      "ccc\n",
      "dddd\n",
      "eeeee\n",
      "ffffff\n"
     ]
    }
   ],
   "source": [
    "n=int(input(\"enter the number\"))\n",
    "for i in range(97,97+n):\n",
    "    for j in range(97,1+i):\n",
    "        print(chr(i),end=\"\")\n",
    "    print()\n"
   ]
  },
  {
   "cell_type": "code",
   "execution_count": null,
   "id": "eaff878d",
   "metadata": {},
   "outputs": [],
   "source": []
  }
 ],
 "metadata": {
  "kernelspec": {
   "display_name": "Python 3 (ipykernel)",
   "language": "python",
   "name": "python3"
  },
  "language_info": {
   "codemirror_mode": {
    "name": "ipython",
    "version": 3
   },
   "file_extension": ".py",
   "mimetype": "text/x-python",
   "name": "python",
   "nbconvert_exporter": "python",
   "pygments_lexer": "ipython3",
   "version": "3.9.13"
  }
 },
 "nbformat": 4,
 "nbformat_minor": 5
}
