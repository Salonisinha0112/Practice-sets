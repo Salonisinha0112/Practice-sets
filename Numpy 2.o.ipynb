{
 "cells": [
  {
   "cell_type": "markdown",
   "id": "d88da93f",
   "metadata": {},
   "source": [
    "## Numpy \n",
    "\n",
    "######numeric python or numerical python"
   ]
  },
  {
   "cell_type": "code",
   "execution_count": 1,
   "id": "408e5200",
   "metadata": {},
   "outputs": [],
   "source": [
    "## its an library,provides high performance, multi dimensional array object,and also tools \n",
    "##create homogeneous data\n",
    "##dimentions are called axes\n",
    "##number of axes are called ranks"
   ]
  },
  {
   "cell_type": "code",
   "execution_count": 2,
   "id": "801f2511",
   "metadata": {},
   "outputs": [],
   "source": [
    "##Array is a data stucture stores value of same time"
   ]
  },
  {
   "cell_type": "code",
   "execution_count": 5,
   "id": "2168685d",
   "metadata": {},
   "outputs": [],
   "source": [
    "#import libaray\n",
    "import numpy as np"
   ]
  },
  {
   "cell_type": "code",
   "execution_count": null,
   "id": "eb69e79f",
   "metadata": {},
   "outputs": [],
   "source": [
    "##ways to create array: np.array,np.zero,no.ones,ets\n"
   ]
  },
  {
   "cell_type": "code",
   "execution_count": 6,
   "id": "a100b63f",
   "metadata": {},
   "outputs": [
    {
     "name": "stdout",
     "output_type": "stream",
     "text": [
      "[1 2 3]\n",
      "[4 5 6]\n"
     ]
    }
   ],
   "source": [
    "#creating numpy Array     #np.array we can have array of elements that belongs to other data type.\n",
    "a=np.array([1,2,3])  #a is list of integer\n",
    "b=np.array((4,5,6))   #b is turple of integer\n",
    "print(a)\n",
    "print(b)"
   ]
  },
  {
   "cell_type": "code",
   "execution_count": 10,
   "id": "cc7dd19f",
   "metadata": {},
   "outputs": [
    {
     "name": "stdout",
     "output_type": "stream",
     "text": [
      "[ 5  7  9 11 13 15 17 19 21 23 25 27 29 31 33 35 37 39 41 43 45 47 49]\n"
     ]
    }
   ],
   "source": [
    "#np.arrange (start,end,steps)\n",
    "a=np.arange(5,50,2)\n",
    "print(a)"
   ]
  },
  {
   "cell_type": "code",
   "execution_count": 16,
   "id": "ae42285a",
   "metadata": {},
   "outputs": [
    {
     "name": "stdout",
     "output_type": "stream",
     "text": [
      "[1.         0.88888889 0.77777778 0.66666667]\n"
     ]
    }
   ],
   "source": [
    "#np.linspace (start,end,num of output)\n",
    "a=np.linspace(1,2/3,4)\n",
    "print(a)"
   ]
  },
  {
   "cell_type": "code",
   "execution_count": 17,
   "id": "aa457a59",
   "metadata": {},
   "outputs": [
    {
     "name": "stdout",
     "output_type": "stream",
     "text": [
      "numpy array created from list [1 2 3 4 5 6 7 8 9]\n"
     ]
    }
   ],
   "source": [
    "#create np.array from list\n",
    "l=[1,2,3,4,5,6,7,8,9]\n",
    "arr=np.array(l)\n",
    "print(\"numpy array created from list\",arr)"
   ]
  },
  {
   "cell_type": "code",
   "execution_count": 19,
   "id": "2d901a4d",
   "metadata": {},
   "outputs": [
    {
     "name": "stdout",
     "output_type": "stream",
     "text": [
      "numpy array from tuple [1 2 3 4 5 6 7 8 9]\n"
     ]
    }
   ],
   "source": [
    "#create numpy array from tuple\n",
    "l=(1,2,3,4,5,6,7,8,9)\n",
    "arr=np.array(l)\n",
    "print(\"numpy array from tuple\",arr)"
   ]
  },
  {
   "cell_type": "code",
   "execution_count": 20,
   "id": "0c1dc02c",
   "metadata": {},
   "outputs": [
    {
     "data": {
      "text/plain": [
       "numpy.ndarray"
      ]
     },
     "execution_count": 20,
     "metadata": {},
     "output_type": "execute_result"
    }
   ],
   "source": [
    "type(arr)"
   ]
  },
  {
   "cell_type": "code",
   "execution_count": 24,
   "id": "24951901",
   "metadata": {},
   "outputs": [
    {
     "name": "stdout",
     "output_type": "stream",
     "text": [
      "[[1. 1. 1. 1. 1. 1.]\n",
      " [1. 1. 1. 1. 1. 1.]\n",
      " [1. 1. 1. 1. 1. 1.]\n",
      " [1. 1. 1. 1. 1. 1.]]\n"
     ]
    }
   ],
   "source": [
    "#np.ones\n",
    "a=np.ones((4,6))\n",
    "dtype=np.int16\n",
    "print(a)"
   ]
  },
  {
   "cell_type": "code",
   "execution_count": 29,
   "id": "da986593",
   "metadata": {},
   "outputs": [
    {
     "name": "stdout",
     "output_type": "stream",
     "text": [
      "[[0. 0. 0. 0.]\n",
      " [0. 0. 0. 0.]\n",
      " [0. 0. 0. 0.]]\n"
     ]
    }
   ],
   "source": [
    "#np.zeroes\n",
    "a=np.zeros((3,4))\n",
    "print(a)"
   ]
  },
  {
   "cell_type": "code",
   "execution_count": 2,
   "id": "d24b6ed7",
   "metadata": {},
   "outputs": [],
   "source": [
    "import numpy as np"
   ]
  },
  {
   "cell_type": "code",
   "execution_count": 3,
   "id": "48760a91",
   "metadata": {},
   "outputs": [
    {
     "name": "stdout",
     "output_type": "stream",
     "text": [
      "[[2 2 2 2]\n",
      " [2 2 2 2]\n",
      " [2 2 2 2]]\n"
     ]
    }
   ],
   "source": [
    "#np.full\n",
    "a=np.full((3,4),2)\n",
    "print(a)"
   ]
  },
  {
   "cell_type": "code",
   "execution_count": 4,
   "id": "697fdff0",
   "metadata": {},
   "outputs": [
    {
     "data": {
      "text/plain": [
       "array([182, 142, 195, 117, 156, 137, 115, 172, 136, 134])"
      ]
     },
     "execution_count": 4,
     "metadata": {},
     "output_type": "execute_result"
    }
   ],
   "source": [
    "np.random.randint(100,200,10)"
   ]
  },
  {
   "cell_type": "code",
   "execution_count": 31,
   "id": "bf04a146",
   "metadata": {},
   "outputs": [
    {
     "name": "stdout",
     "output_type": "stream",
     "text": [
      "[[0.22130142 0.71916473]\n",
      " [0.92056562 0.33418184]\n",
      " [0.91295692 0.95247345]]\n"
     ]
    }
   ],
   "source": [
    "#np.random\n",
    "a=np.random.rand(3,2)\n",
    "print(a)"
   ]
  },
  {
   "cell_type": "code",
   "execution_count": 34,
   "id": "ba754e9e",
   "metadata": {},
   "outputs": [
    {
     "name": "stdout",
     "output_type": "stream",
     "text": [
      "[[0. 0. 0. 0.]\n",
      " [0. 0. 0. 0.]\n",
      " [0. 0. 0. 0.]]\n"
     ]
    }
   ],
   "source": [
    "#np.empty\n",
    "a=np.empty((3,4))\n",
    "print(a)"
   ]
  },
  {
   "cell_type": "code",
   "execution_count": 40,
   "id": "d6e8ab90",
   "metadata": {},
   "outputs": [
    {
     "name": "stdout",
     "output_type": "stream",
     "text": [
      "the orignal series is:\n",
      "[ 1.12314454  0.55353213 -0.9611053   0.9129052  -0.15501255  0.67310733\n",
      " -0.54892721  2.31869643 -0.46731815  1.18616876]\n"
     ]
    }
   ],
   "source": [
    "import numpy as np\n",
    "import pandas as pd\n",
    "s=np.random.randn(10)\n",
    "print(\"the orignal series is:\")\n",
    "print(s)"
   ]
  },
  {
   "cell_type": "code",
   "execution_count": 43,
   "id": "35e2e962",
   "metadata": {},
   "outputs": [
    {
     "ename": "AttributeError",
     "evalue": "'numpy.ndarray' object has no attribute 'head'",
     "output_type": "error",
     "traceback": [
      "\u001b[1;31m---------------------------------------------------------------------------\u001b[0m",
      "\u001b[1;31mAttributeError\u001b[0m                            Traceback (most recent call last)",
      "\u001b[1;32m~\\AppData\\Local\\Temp\\ipykernel_60112\\1984872094.py\u001b[0m in \u001b[0;36m<module>\u001b[1;34m\u001b[0m\n\u001b[1;32m----> 1\u001b[1;33m \u001b[0ms\u001b[0m\u001b[1;33m.\u001b[0m\u001b[0mhead\u001b[0m\u001b[1;33m(\u001b[0m\u001b[1;36m4\u001b[0m\u001b[1;33m)\u001b[0m\u001b[1;33m\u001b[0m\u001b[1;33m\u001b[0m\u001b[0m\n\u001b[0m",
      "\u001b[1;31mAttributeError\u001b[0m: 'numpy.ndarray' object has no attribute 'head'"
     ]
    }
   ],
   "source": [
    "s.head(4)"
   ]
  },
  {
   "cell_type": "code",
   "execution_count": 44,
   "id": "e4c820d0",
   "metadata": {},
   "outputs": [],
   "source": [
    "lst=[1,2,3,4]\n",
    "arr=np.array(lst)"
   ]
  },
  {
   "cell_type": "code",
   "execution_count": 50,
   "id": "d8a893ac",
   "metadata": {},
   "outputs": [
    {
     "name": "stdout",
     "output_type": "stream",
     "text": [
      "2D array is: [[1 2 3]\n",
      " [4 5 6]\n",
      " [7 8 9]]\n"
     ]
    }
   ],
   "source": [
    "#np.flatten()\n",
    "import numpy as np\n",
    "a=np.array([[1,2,3],[4,5,6],[7,8,9]])\n",
    "print(\"2D array is:\",str(a))\n"
   ]
  },
  {
   "cell_type": "code",
   "execution_count": 53,
   "id": "21caa18d",
   "metadata": {},
   "outputs": [
    {
     "name": "stdout",
     "output_type": "stream",
     "text": [
      "1D Array is: [1 2 3 4 5 6 7 8 9]\n"
     ]
    }
   ],
   "source": [
    "b=a.flatten()\n",
    "print(\"1D Array is:\",b)"
   ]
  },
  {
   "cell_type": "code",
   "execution_count": 54,
   "id": "52e1d53a",
   "metadata": {},
   "outputs": [
    {
     "name": "stdout",
     "output_type": "stream",
     "text": [
      "2D array is: [[1 2 3]\n",
      " [4 5 6]\n",
      " [7 8 9]]\n",
      "1D array is: [1 2 3 4 5 6 7 8 9]\n"
     ]
    }
   ],
   "source": [
    "#np.ravel()\n",
    "a=np.array([[1,2,3],[4,5,6],[7,8,9]])\n",
    "print(\"2D array is:\",str(a))\n",
    "b=a.ravel()\n",
    "print(\"1D array is:\",b)"
   ]
  },
  {
   "cell_type": "code",
   "execution_count": 65,
   "id": "65986b29",
   "metadata": {},
   "outputs": [
    {
     "name": "stdout",
     "output_type": "stream",
     "text": [
      "2D array is: [[1 2 3]\n",
      " [4 5 6]\n",
      " [7 8 9]\n",
      " [2 3 9]]\n",
      "new array: [[1 2]\n",
      " [3 4]\n",
      " [5 6]\n",
      " [7 8]\n",
      " [9 2]\n",
      " [3 9]]\n"
     ]
    }
   ],
   "source": [
    "##np.reshape()\n",
    "a=np.array([[1,2,3],[4,5,6],[7,8,9],[2,3,9]])\n",
    "print(\"2D array is:\",a)\n",
    "b=a.reshape(6,2)\n",
    "print(\"new array:\",b)"
   ]
  },
  {
   "cell_type": "code",
   "execution_count": 66,
   "id": "71cc6a48",
   "metadata": {},
   "outputs": [],
   "source": [
    "lst1=[1,2,3,4]\n",
    "lst2=[5,6,7,8]\n",
    "lst3=[9,8,7,6]\n",
    "arr1=np.array([lst1,lst2,lst3])"
   ]
  },
  {
   "cell_type": "code",
   "execution_count": 68,
   "id": "208e58cc",
   "metadata": {},
   "outputs": [
    {
     "data": {
      "text/plain": [
       "array([[1, 2, 3, 4],\n",
       "       [5, 6, 7, 8],\n",
       "       [9, 8, 7, 6]])"
      ]
     },
     "execution_count": 68,
     "metadata": {},
     "output_type": "execute_result"
    }
   ],
   "source": [
    "arr1"
   ]
  },
  {
   "cell_type": "code",
   "execution_count": 7,
   "id": "01d07264",
   "metadata": {},
   "outputs": [
    {
     "data": {
      "text/plain": [
       "numpy.ndarray"
      ]
     },
     "execution_count": 7,
     "metadata": {},
     "output_type": "execute_result"
    }
   ],
   "source": [
    "type(arr)"
   ]
  },
  {
   "cell_type": "code",
   "execution_count": 13,
   "id": "69a9cf6e",
   "metadata": {},
   "outputs": [],
   "source": [
    "lst1=[1,2,3,4]\n",
    "lst2=[5,6,7,8]\n",
    "lst3=[9,8,7,6]\n",
    "arr1=np.array([lst1,lst2,lst3])"
   ]
  },
  {
   "cell_type": "code",
   "execution_count": 14,
   "id": "294e2c83",
   "metadata": {},
   "outputs": [
    {
     "data": {
      "text/plain": [
       "array([[1, 2, 3, 4],\n",
       "       [5, 6, 7, 8],\n",
       "       [9, 8, 7, 6]])"
      ]
     },
     "execution_count": 14,
     "metadata": {},
     "output_type": "execute_result"
    }
   ],
   "source": [
    "arr1"
   ]
  },
  {
   "cell_type": "code",
   "execution_count": 15,
   "id": "c3d198ba",
   "metadata": {},
   "outputs": [
    {
     "data": {
      "text/plain": [
       "(3, 4)"
      ]
     },
     "execution_count": 15,
     "metadata": {},
     "output_type": "execute_result"
    }
   ],
   "source": [
    "arr1.shape  #imp"
   ]
  },
  {
   "cell_type": "code",
   "execution_count": 16,
   "id": "f5dd97f2",
   "metadata": {},
   "outputs": [
    {
     "data": {
      "text/plain": [
       "numpy.ndarray"
      ]
     },
     "execution_count": 16,
     "metadata": {},
     "output_type": "execute_result"
    }
   ],
   "source": [
    "type(arr1)"
   ]
  },
  {
   "cell_type": "code",
   "execution_count": 17,
   "id": "4be3b110",
   "metadata": {},
   "outputs": [
    {
     "data": {
      "text/plain": [
       "4"
      ]
     },
     "execution_count": 17,
     "metadata": {},
     "output_type": "execute_result"
    }
   ],
   "source": [
    "#indexing\n",
    "arr[3]"
   ]
  },
  {
   "cell_type": "code",
   "execution_count": 20,
   "id": "1c725f97",
   "metadata": {},
   "outputs": [],
   "source": [
    "arr[3]=5"
   ]
  },
  {
   "cell_type": "code",
   "execution_count": 21,
   "id": "6a8a1ffb",
   "metadata": {},
   "outputs": [
    {
     "data": {
      "text/plain": [
       "array([1, 2, 3, 5])"
      ]
     },
     "execution_count": 21,
     "metadata": {},
     "output_type": "execute_result"
    }
   ],
   "source": [
    "arr"
   ]
  },
  {
   "cell_type": "code",
   "execution_count": 22,
   "id": "db9af3ac",
   "metadata": {},
   "outputs": [
    {
     "data": {
      "text/plain": [
       "array([2, 3])"
      ]
     },
     "execution_count": 22,
     "metadata": {},
     "output_type": "execute_result"
    }
   ],
   "source": [
    "arr[1:3]"
   ]
  },
  {
   "cell_type": "code",
   "execution_count": 23,
   "id": "38f01b69",
   "metadata": {},
   "outputs": [
    {
     "data": {
      "text/plain": [
       "5"
      ]
     },
     "execution_count": 23,
     "metadata": {},
     "output_type": "execute_result"
    }
   ],
   "source": [
    "arr[-1]"
   ]
  },
  {
   "cell_type": "code",
   "execution_count": 24,
   "id": "122fb7de",
   "metadata": {},
   "outputs": [
    {
     "data": {
      "text/plain": [
       "array([2, 3, 5])"
      ]
     },
     "execution_count": 24,
     "metadata": {},
     "output_type": "execute_result"
    }
   ],
   "source": [
    "arr[1:]"
   ]
  },
  {
   "cell_type": "code",
   "execution_count": 25,
   "id": "f6dcd560",
   "metadata": {},
   "outputs": [
    {
     "data": {
      "text/plain": [
       "array([1, 2, 3])"
      ]
     },
     "execution_count": 25,
     "metadata": {},
     "output_type": "execute_result"
    }
   ],
   "source": [
    "arr[:3]"
   ]
  },
  {
   "cell_type": "code",
   "execution_count": 27,
   "id": "b6536001",
   "metadata": {},
   "outputs": [
    {
     "data": {
      "text/plain": [
       "array([1, 2, 3])"
      ]
     },
     "execution_count": 27,
     "metadata": {},
     "output_type": "execute_result"
    }
   ],
   "source": [
    "arr[:-1] #removes last no."
   ]
  },
  {
   "cell_type": "code",
   "execution_count": 28,
   "id": "75196281",
   "metadata": {},
   "outputs": [
    {
     "data": {
      "text/plain": [
       "array([5, 3, 2, 1])"
      ]
     },
     "execution_count": 28,
     "metadata": {},
     "output_type": "execute_result"
    }
   ],
   "source": [
    "arr[::-1]"
   ]
  },
  {
   "cell_type": "code",
   "execution_count": 29,
   "id": "2d697d15",
   "metadata": {},
   "outputs": [
    {
     "data": {
      "text/plain": [
       "array([5, 2])"
      ]
     },
     "execution_count": 29,
     "metadata": {},
     "output_type": "execute_result"
    }
   ],
   "source": [
    "arr[::-2] #jumps 2 step"
   ]
  },
  {
   "cell_type": "code",
   "execution_count": 30,
   "id": "85cbc910",
   "metadata": {},
   "outputs": [
    {
     "data": {
      "text/plain": [
       "array([[1, 2, 3, 4],\n",
       "       [5, 6, 7, 8],\n",
       "       [9, 8, 7, 6]])"
      ]
     },
     "execution_count": 30,
     "metadata": {},
     "output_type": "execute_result"
    }
   ],
   "source": [
    "arr1"
   ]
  },
  {
   "cell_type": "code",
   "execution_count": 31,
   "id": "cbd9f3c7",
   "metadata": {},
   "outputs": [
    {
     "data": {
      "text/plain": [
       "array([2, 6, 8])"
      ]
     },
     "execution_count": 31,
     "metadata": {},
     "output_type": "execute_result"
    }
   ],
   "source": [
    "arr1[:,1]"
   ]
  },
  {
   "cell_type": "code",
   "execution_count": 69,
   "id": "1f10beae",
   "metadata": {},
   "outputs": [
    {
     "data": {
      "text/plain": [
       "array([], dtype=int32)"
      ]
     },
     "execution_count": 69,
     "metadata": {},
     "output_type": "execute_result"
    }
   ],
   "source": [
    " arr[1:1]"
   ]
  },
  {
   "cell_type": "code",
   "execution_count": 73,
   "id": "cd99b471",
   "metadata": {},
   "outputs": [
    {
     "data": {
      "text/plain": [
       "array([[7, 8],\n",
       "       [7, 6]])"
      ]
     },
     "execution_count": 73,
     "metadata": {},
     "output_type": "execute_result"
    }
   ],
   "source": [
    "arr1[1:,2:]"
   ]
  },
  {
   "cell_type": "code",
   "execution_count": 34,
   "id": "d025581b",
   "metadata": {},
   "outputs": [
    {
     "data": {
      "text/plain": [
       "array([[6, 7],\n",
       "       [8, 7]])"
      ]
     },
     "execution_count": 34,
     "metadata": {},
     "output_type": "execute_result"
    }
   ],
   "source": [
    "arr1[1:,1:3]"
   ]
  },
  {
   "cell_type": "code",
   "execution_count": 36,
   "id": "5975c50f",
   "metadata": {},
   "outputs": [
    {
     "data": {
      "text/plain": [
       "array([[5, 6],\n",
       "       [9, 8]])"
      ]
     },
     "execution_count": 36,
     "metadata": {},
     "output_type": "execute_result"
    }
   ],
   "source": [
    "arr1[1:,0:2]"
   ]
  },
  {
   "cell_type": "code",
   "execution_count": 78,
   "id": "aff29b40",
   "metadata": {},
   "outputs": [
    {
     "data": {
      "text/plain": [
       "array([[7, 8],\n",
       "       [7, 6]])"
      ]
     },
     "execution_count": 78,
     "metadata": {},
     "output_type": "execute_result"
    }
   ],
   "source": [
    "arr1[1:,2:]"
   ]
  },
  {
   "cell_type": "code",
   "execution_count": 79,
   "id": "07c1afe2",
   "metadata": {},
   "outputs": [
    {
     "data": {
      "text/plain": [
       "array([[1, 2, 3, 4],\n",
       "       [5, 6, 7, 8],\n",
       "       [9, 8, 7, 6]])"
      ]
     },
     "execution_count": 79,
     "metadata": {},
     "output_type": "execute_result"
    }
   ],
   "source": [
    "arr1"
   ]
  },
  {
   "cell_type": "code",
   "execution_count": 77,
   "id": "08ed5362",
   "metadata": {},
   "outputs": [
    {
     "data": {
      "text/plain": [
       "array([[9, 8, 7, 6],\n",
       "       [1, 2, 3, 4]])"
      ]
     },
     "execution_count": 77,
     "metadata": {},
     "output_type": "execute_result"
    }
   ],
   "source": [
    "arr1[::-2]"
   ]
  },
  {
   "cell_type": "code",
   "execution_count": 74,
   "id": "a5a8b4a6",
   "metadata": {},
   "outputs": [
    {
     "data": {
      "text/plain": [
       "array([[1, 2, 3, 4],\n",
       "       [5, 6, 7, 8],\n",
       "       [9, 8, 7, 6]])"
      ]
     },
     "execution_count": 74,
     "metadata": {},
     "output_type": "execute_result"
    }
   ],
   "source": [
    "arr1"
   ]
  },
  {
   "cell_type": "code",
   "execution_count": 75,
   "id": "f8a3a50b",
   "metadata": {},
   "outputs": [
    {
     "data": {
      "text/plain": [
       "array([[5, 6],\n",
       "       [9, 8]])"
      ]
     },
     "execution_count": 75,
     "metadata": {},
     "output_type": "execute_result"
    }
   ],
   "source": [
    "arr1[1:,0:2]"
   ]
  },
  {
   "cell_type": "code",
   "execution_count": 40,
   "id": "ce8d751e",
   "metadata": {},
   "outputs": [
    {
     "data": {
      "text/plain": [
       "array([[6, 7]])"
      ]
     },
     "execution_count": 40,
     "metadata": {},
     "output_type": "execute_result"
    }
   ],
   "source": [
    "arr1[1:2,1:3]"
   ]
  },
  {
   "cell_type": "code",
   "execution_count": 41,
   "id": "e57f18d4",
   "metadata": {},
   "outputs": [
    {
     "data": {
      "text/plain": [
       "array([[1, 2, 3, 4],\n",
       "       [5, 6, 7, 8],\n",
       "       [9, 8, 7, 6]])"
      ]
     },
     "execution_count": 41,
     "metadata": {},
     "output_type": "execute_result"
    }
   ],
   "source": [
    "arr1"
   ]
  },
  {
   "cell_type": "code",
   "execution_count": 42,
   "id": "ee9dc5e3",
   "metadata": {},
   "outputs": [
    {
     "data": {
      "text/plain": [
       "array([[4],\n",
       "       [8],\n",
       "       [6]])"
      ]
     },
     "execution_count": 42,
     "metadata": {},
     "output_type": "execute_result"
    }
   ],
   "source": [
    "arr1[0:,3:]"
   ]
  },
  {
   "cell_type": "code",
   "execution_count": 45,
   "id": "bd846a48",
   "metadata": {},
   "outputs": [
    {
     "data": {
      "text/plain": [
       "array([[4],\n",
       "       [8],\n",
       "       [6]])"
      ]
     },
     "execution_count": 45,
     "metadata": {},
     "output_type": "execute_result"
    }
   ],
   "source": [
    "arr1[:,::-4]"
   ]
  },
  {
   "cell_type": "code",
   "execution_count": 46,
   "id": "4f7814ca",
   "metadata": {},
   "outputs": [
    {
     "data": {
      "text/plain": [
       "array([1, 2, 3, 5])"
      ]
     },
     "execution_count": 46,
     "metadata": {},
     "output_type": "execute_result"
    }
   ],
   "source": [
    "#EDA\n",
    "arr"
   ]
  },
  {
   "cell_type": "code",
   "execution_count": 47,
   "id": "1d753baf",
   "metadata": {},
   "outputs": [
    {
     "data": {
      "text/plain": [
       "array([False,  True,  True,  True])"
      ]
     },
     "execution_count": 47,
     "metadata": {},
     "output_type": "execute_result"
    }
   ],
   "source": [
    "arr>1"
   ]
  },
  {
   "cell_type": "code",
   "execution_count": 48,
   "id": "725613cd",
   "metadata": {},
   "outputs": [
    {
     "data": {
      "text/plain": [
       "(3, 4)"
      ]
     },
     "execution_count": 48,
     "metadata": {},
     "output_type": "execute_result"
    }
   ],
   "source": [
    "arr1.shape"
   ]
  },
  {
   "cell_type": "code",
   "execution_count": 49,
   "id": "731a54b0",
   "metadata": {},
   "outputs": [
    {
     "data": {
      "text/plain": [
       "array([[1, 2],\n",
       "       [3, 4],\n",
       "       [5, 6],\n",
       "       [7, 8],\n",
       "       [9, 8],\n",
       "       [7, 6]])"
      ]
     },
     "execution_count": 49,
     "metadata": {},
     "output_type": "execute_result"
    }
   ],
   "source": [
    "arr1.reshape(6,2)"
   ]
  },
  {
   "cell_type": "code",
   "execution_count": 59,
   "id": "41b79f02",
   "metadata": {},
   "outputs": [
    {
     "data": {
      "text/plain": [
       "array([1, 3, 5, 7, 9])"
      ]
     },
     "execution_count": 59,
     "metadata": {},
     "output_type": "execute_result"
    }
   ],
   "source": [
    "#mechaism to create an array\n",
    "np.arange(1,10,2)"
   ]
  },
  {
   "cell_type": "code",
   "execution_count": 62,
   "id": "f24ec7ae",
   "metadata": {},
   "outputs": [
    {
     "data": {
      "text/plain": [
       "array([[ 1,  3],\n",
       "       [ 5,  7],\n",
       "       [ 9, 11],\n",
       "       [13, 15],\n",
       "       [17, 19]])"
      ]
     },
     "execution_count": 62,
     "metadata": {},
     "output_type": "execute_result"
    }
   ],
   "source": [
    "np.arange(1,20,2).reshape(5,2)"
   ]
  },
  {
   "cell_type": "code",
   "execution_count": 63,
   "id": "d5b7c2d6",
   "metadata": {},
   "outputs": [
    {
     "data": {
      "text/plain": [
       "array([ 1,  4,  9, 25])"
      ]
     },
     "execution_count": 63,
     "metadata": {},
     "output_type": "execute_result"
    }
   ],
   "source": [
    "arr*arr"
   ]
  },
  {
   "cell_type": "code",
   "execution_count": 65,
   "id": "a4f54b2c",
   "metadata": {},
   "outputs": [
    {
     "data": {
      "text/plain": [
       "array([[0., 0., 0., 0., 0.],\n",
       "       [0., 0., 0., 0., 0.],\n",
       "       [0., 0., 0., 0., 0.],\n",
       "       [0., 0., 0., 0., 0.]])"
      ]
     },
     "execution_count": 65,
     "metadata": {},
     "output_type": "execute_result"
    }
   ],
   "source": [
    "np.zeros((4,5))"
   ]
  },
  {
   "cell_type": "code",
   "execution_count": 72,
   "id": "b378adb1",
   "metadata": {},
   "outputs": [
    {
     "data": {
      "text/plain": [
       "36"
      ]
     },
     "execution_count": 72,
     "metadata": {},
     "output_type": "execute_result"
    }
   ],
   "source": [
    "np.random.randint(10,50) #upper and lower value has to be added"
   ]
  },
  {
   "cell_type": "code",
   "execution_count": 73,
   "id": "3a10db16",
   "metadata": {},
   "outputs": [
    {
     "data": {
      "text/plain": [
       "array([[34, 19],\n",
       "       [25, 48]])"
      ]
     },
     "execution_count": 73,
     "metadata": {},
     "output_type": "execute_result"
    }
   ],
   "source": [
    "np.random.randint(10,50,4).reshape(2,2) #upper and lower value along with the size"
   ]
  },
  {
   "cell_type": "code",
   "execution_count": 71,
   "id": "7da98de2",
   "metadata": {},
   "outputs": [
    {
     "data": {
      "text/plain": [
       "1.1961947352730518"
      ]
     },
     "execution_count": 71,
     "metadata": {},
     "output_type": "execute_result"
    }
   ],
   "source": [
    "np.random.randn()"
   ]
  },
  {
   "cell_type": "code",
   "execution_count": 74,
   "id": "50b66418",
   "metadata": {},
   "outputs": [
    {
     "data": {
      "text/plain": [
       "array([[ 0.35683317, -0.34375206, -0.01672004,  0.27562318, -0.77682684,\n",
       "        -0.62043559],\n",
       "       [-2.0239944 ,  0.33453128, -0.52805046, -0.30986624, -0.29257271,\n",
       "        -0.76876341],\n",
       "       [ 1.04485406,  0.34103353, -0.31013293,  0.72003954,  0.45818553,\n",
       "         0.18869095],\n",
       "       [-1.45887648, -0.76956561,  0.84262429,  0.62127371, -0.09690001,\n",
       "         0.61214927],\n",
       "       [ 0.38332004, -0.75379864, -0.88157703, -0.29724664, -0.7166952 ,\n",
       "        -0.09316005]])"
      ]
     },
     "execution_count": 74,
     "metadata": {},
     "output_type": "execute_result"
    }
   ],
   "source": [
    "np.random.randn(5,6) #standard divation"
   ]
  },
  {
   "cell_type": "code",
   "execution_count": 75,
   "id": "56301e3c",
   "metadata": {},
   "outputs": [
    {
     "data": {
      "text/plain": [
       "array([[2.01488185e-01, 1.47682412e-01, 3.39368180e-01, 1.59687834e-01,\n",
       "        4.82753344e-01, 8.49218117e-01, 1.43852540e-02],\n",
       "       [8.54265257e-01, 6.16795782e-01, 2.73183726e-01, 4.92026279e-01,\n",
       "        4.38676766e-01, 5.56404459e-01, 8.88413142e-01],\n",
       "       [4.45232772e-01, 9.10137585e-04, 4.36811453e-01, 4.39266015e-01,\n",
       "        6.29087163e-01, 5.38423742e-02, 5.50200497e-01],\n",
       "       [5.07495321e-01, 9.88440017e-01, 3.55573540e-01, 4.22987752e-01,\n",
       "        3.29744617e-01, 6.16037213e-01, 1.24006687e-02]])"
      ]
     },
     "execution_count": 75,
     "metadata": {},
     "output_type": "execute_result"
    }
   ],
   "source": [
    "np.random.random_sample((4,7))"
   ]
  },
  {
   "cell_type": "code",
   "execution_count": 7,
   "id": "d3fc8fab",
   "metadata": {},
   "outputs": [
    {
     "name": "stdout",
     "output_type": "stream",
     "text": [
      "[1 2 3 4 5 6 7 8]\n"
     ]
    }
   ],
   "source": [
    "#Array Concatenate np.concatenate()\n",
    "#concatenating two arrays\n",
    "import numpy as np\n",
    "a=np.array([1,2,3,4])\n",
    "b=np.array([5,6,7,8])\n",
    "c=np.concatenate([a,b])\n",
    "print(c)"
   ]
  },
  {
   "cell_type": "code",
   "execution_count": 8,
   "id": "6f49f76b",
   "metadata": {},
   "outputs": [
    {
     "data": {
      "text/plain": [
       "numpy.ndarray"
      ]
     },
     "execution_count": 8,
     "metadata": {},
     "output_type": "execute_result"
    }
   ],
   "source": [
    "type(c)"
   ]
  },
  {
   "cell_type": "code",
   "execution_count": 9,
   "id": "bb677074",
   "metadata": {},
   "outputs": [
    {
     "data": {
      "text/plain": [
       "numpy.ndarray"
      ]
     },
     "execution_count": 9,
     "metadata": {},
     "output_type": "execute_result"
    }
   ],
   "source": [
    "type(a)"
   ]
  },
  {
   "cell_type": "code",
   "execution_count": 12,
   "id": "ee7da2b7",
   "metadata": {},
   "outputs": [
    {
     "name": "stdout",
     "output_type": "stream",
     "text": [
      "[[1 2 3]\n",
      " [4 5 6]\n",
      " [7 8 9]\n",
      " [5 6 7]]\n"
     ]
    }
   ],
   "source": [
    "#concatenate two 2D array\n",
    "#takes tuple or list of array\n",
    "#number of dimentions should be same\n",
    "a=np.array([[1,2,3],[4,5,6]])\n",
    "b=np.array([[7,8,9],[5,6,7]])\n",
    "c=np.concatenate([a,b])\n",
    "print(c)"
   ]
  },
  {
   "cell_type": "code",
   "execution_count": 13,
   "id": "60c8cd8b",
   "metadata": {},
   "outputs": [
    {
     "name": "stdout",
     "output_type": "stream",
     "text": [
      "[1 2 3 4 5 6 7 8 9]\n"
     ]
    }
   ],
   "source": [
    "#concatenating three 1D array\n",
    "a=np.array([1,2,3])\n",
    "b=np.array([4,5,6])\n",
    "c=np.array([7,8,9])\n",
    "d=np.concatenate([a,b,c])\n",
    "print(d)"
   ]
  },
  {
   "cell_type": "code",
   "execution_count": 14,
   "id": "1ad94f7a",
   "metadata": {},
   "outputs": [
    {
     "name": "stdout",
     "output_type": "stream",
     "text": [
      "[[1 2 3 5 6 9]\n",
      " [4 5 6 3 4 2]]\n"
     ]
    }
   ],
   "source": [
    "#concatenating two 2d array columnwise\n",
    "a=([[1,2,3],[4,5,6]])\n",
    "b=([[5,6,9],[3,4,2]])\n",
    "c=np.concatenate([a,b],axis=1)\n",
    "print(c)"
   ]
  },
  {
   "cell_type": "code",
   "execution_count": 18,
   "id": "9731ce2b",
   "metadata": {},
   "outputs": [
    {
     "name": "stdout",
     "output_type": "stream",
     "text": [
      "[[1 2 3]\n",
      " [3 4 5]\n",
      " [6 7 8]]\n"
     ]
    }
   ],
   "source": [
    "#np.vstack() np.hstack\n",
    "#concatenat different dimension\n",
    "#Concatenating using vstack\n",
    "a=np.array([1,2,3])\n",
    "b=np.array([[3,4,5],[6,7,8]])\n",
    "c=np.vstack([a,b])\n",
    "print(c)"
   ]
  },
  {
   "cell_type": "code",
   "execution_count": 21,
   "id": "4cca722e",
   "metadata": {},
   "outputs": [
    {
     "name": "stdout",
     "output_type": "stream",
     "text": [
      "[[1 2 3 4 5 6]\n",
      " [2 6 7 7 8 9]]\n"
     ]
    }
   ],
   "source": [
    "#concatenate using hstack\n",
    "a=([[1,2,3],[2,6,7]])\n",
    "b=([[4,5,6],[7,8,9]])\n",
    "c=np.hstack([a,b])\n",
    "print(c)"
   ]
  },
  {
   "cell_type": "code",
   "execution_count": 25,
   "id": "597e44a0",
   "metadata": {},
   "outputs": [
    {
     "name": "stdout",
     "output_type": "stream",
     "text": [
      "[1 3 4 4 7 8 9 0]\n"
     ]
    }
   ],
   "source": [
    "#Appending Array\n",
    "#two array can be appendend in such a way that value from second array are glued to the end of the first array\n",
    "#appending a 1D array\n",
    "a=np.array([1,3,4])\n",
    "b=np.array([4,7,8,9,0])\n",
    "c=np.append(a,b)\n",
    "print(c)"
   ]
  },
  {
   "cell_type": "code",
   "execution_count": 32,
   "id": "ea4368b4",
   "metadata": {},
   "outputs": [
    {
     "name": "stdout",
     "output_type": "stream",
     "text": [
      "[[1 2 3 4 5 6]\n",
      " [4 5 6 6 9 7]\n",
      " [7 8 9 3 4 2]]\n"
     ]
    }
   ],
   "source": [
    "#appending 2D array\n",
    "a=np.array([[1,2,3],[4,5,6],[7,8,9]])\n",
    "b=np.array([[4,5,6],[6,9,7],[3,4,2]])\n",
    "c=np.append(a,b,axis=1)\n",
    "print(c)"
   ]
  },
  {
   "cell_type": "code",
   "execution_count": 40,
   "id": "868bd33f",
   "metadata": {},
   "outputs": [
    {
     "name": "stdout",
     "output_type": "stream",
     "text": [
      "[[0 1 2 3]\n",
      " [4 5 6 7]]\n",
      "[[ 8  9 10 11]\n",
      " [12 13 14 15]]\n"
     ]
    }
   ],
   "source": [
    "#splitting of array \n",
    "#vsplite\n",
    "a=np.arange(16).reshape(4,4)\n",
    "\n",
    "upper,lower=np.vsplit(a,[2])\n",
    "print(upper)\n",
    "print(lower)"
   ]
  },
  {
   "cell_type": "code",
   "execution_count": 45,
   "id": "8b40d703",
   "metadata": {},
   "outputs": [
    {
     "name": "stdout",
     "output_type": "stream",
     "text": [
      "right side\n",
      " [[ 2  3]\n",
      " [ 6  7]\n",
      " [10 11]\n",
      " [14 15]]\n",
      "left side\n",
      " [[ 0  1]\n",
      " [ 4  5]\n",
      " [ 8  9]\n",
      " [12 13]]\n"
     ]
    }
   ],
   "source": [
    "#hsplite\n",
    "a=np.arange(16).reshape(4,4)\n",
    "left,right=np.hsplit(a,[2])\n",
    "print(\"right side\\n\",right)\n",
    "print(\"left side\\n\",left)"
   ]
  },
  {
   "cell_type": "code",
   "execution_count": 50,
   "id": "9a169f57",
   "metadata": {},
   "outputs": [
    {
     "name": "stdout",
     "output_type": "stream",
     "text": [
      "value of x\n",
      " [[1. 1. 1.]\n",
      " [1. 1. 1.]\n",
      " [1. 1. 1.]\n",
      " [1. 1. 1.]]\n",
      "dimention of x (4, 3)\n",
      "dimention of y (4, 3)\n",
      "value of y\n",
      " [[0.44336452 0.35604792 0.67211884]\n",
      " [0.64827707 0.85659857 0.57975152]\n",
      " [0.34485406 0.89814159 0.93683507]\n",
      " [0.04800923 0.36894889 0.74779084]]\n",
      "[[1.44336452 1.35604792 1.67211884]\n",
      " [1.64827707 1.85659857 1.57975152]\n",
      " [1.34485406 1.89814159 1.93683507]\n",
      " [1.04800923 1.36894889 1.74779084]]\n"
     ]
    }
   ],
   "source": [
    "#numpy broadcast\n",
    "#used while performing Arithemetic operations are performed on array of different shape\n",
    "x=np.ones((4,3))\n",
    "print(\"value of x\\n\",x)\n",
    "print(\"dimention of x\",x.shape)\n",
    "print(\"dimention of y\",y.shape)\n",
    "y=np.random.random((4,3))\n",
    "print(\"value of y\\n\",y)\n",
    "print(x+y)"
   ]
  },
  {
   "cell_type": "code",
   "execution_count": 55,
   "id": "551585c1",
   "metadata": {},
   "outputs": [
    {
     "name": "stdout",
     "output_type": "stream",
     "text": [
      "[[1.97035448 1.21739466 1.59817767 1.80502172 1.27206571]\n",
      " [1.59367717 1.01587061 1.70273078 1.96499675 1.89429559]\n",
      " [1.01048692 1.37715428 1.7727734  1.42960157 1.22727963]]\n"
     ]
    }
   ],
   "source": [
    "x=np.ones((3,5))\n",
    "y=np.random.random((3,5))\n",
    "print(x+y)"
   ]
  },
  {
   "cell_type": "code",
   "execution_count": 60,
   "id": "920bbab3",
   "metadata": {},
   "outputs": [
    {
     "name": "stdout",
     "output_type": "stream",
     "text": [
      "[2]\n",
      "[[1. 1. 1. 1. 1.]\n",
      " [1. 1. 1. 1. 1.]\n",
      " [1. 1. 1. 1. 1.]]\n",
      "[[-1. -1. -1. -1. -1.]\n",
      " [-1. -1. -1. -1. -1.]\n",
      " [-1. -1. -1. -1. -1.]]\n"
     ]
    }
   ],
   "source": [
    "x=np.ones((3,5))\n",
    "y=np.arange(2,3,4)\n",
    "print(y)\n",
    "print(x)\n",
    "print(x-y)"
   ]
  },
  {
   "cell_type": "code",
   "execution_count": 64,
   "id": "e3552d81",
   "metadata": {},
   "outputs": [
    {
     "ename": "TypeError",
     "evalue": "arange: scalar arguments expected instead of a tuple.",
     "output_type": "error",
     "traceback": [
      "\u001b[1;31m---------------------------------------------------------------------------\u001b[0m",
      "\u001b[1;31mTypeError\u001b[0m                                 Traceback (most recent call last)",
      "\u001b[1;32m~\\AppData\\Local\\Temp\\ipykernel_69908\\3730230291.py\u001b[0m in \u001b[0;36m<module>\u001b[1;34m\u001b[0m\n\u001b[0;32m      1\u001b[0m \u001b[0mx\u001b[0m\u001b[1;33m=\u001b[0m\u001b[0mnp\u001b[0m\u001b[1;33m.\u001b[0m\u001b[0mones\u001b[0m\u001b[1;33m(\u001b[0m\u001b[1;33m(\u001b[0m\u001b[1;36m3\u001b[0m\u001b[1;33m,\u001b[0m\u001b[1;36m4\u001b[0m\u001b[1;33m)\u001b[0m\u001b[1;33m)\u001b[0m\u001b[1;33m\u001b[0m\u001b[1;33m\u001b[0m\u001b[0m\n\u001b[1;32m----> 2\u001b[1;33m \u001b[0my\u001b[0m\u001b[1;33m=\u001b[0m\u001b[0mnp\u001b[0m\u001b[1;33m.\u001b[0m\u001b[0marange\u001b[0m\u001b[1;33m(\u001b[0m\u001b[1;33m(\u001b[0m\u001b[1;36m2\u001b[0m\u001b[1;33m,\u001b[0m\u001b[1;36m1\u001b[0m\u001b[1;33m,\u001b[0m\u001b[1;36m4\u001b[0m\u001b[1;33m)\u001b[0m\u001b[1;33m)\u001b[0m\u001b[1;33m\u001b[0m\u001b[1;33m\u001b[0m\u001b[0m\n\u001b[0m\u001b[0;32m      3\u001b[0m \u001b[0mprint\u001b[0m\u001b[1;33m(\u001b[0m\u001b[0mx\u001b[0m\u001b[1;33m-\u001b[0m\u001b[0my\u001b[0m\u001b[1;33m)\u001b[0m\u001b[1;33m\u001b[0m\u001b[1;33m\u001b[0m\u001b[0m\n",
      "\u001b[1;31mTypeError\u001b[0m: arange: scalar arguments expected instead of a tuple."
     ]
    }
   ],
   "source": [
    "x=np.ones((3,4))\n",
    "y=np.arange((2,1,4))\n",
    "print(x-y)"
   ]
  },
  {
   "cell_type": "markdown",
   "id": "6659daa8",
   "metadata": {},
   "source": [
    "### Performing mathematical operation"
   ]
  },
  {
   "cell_type": "code",
   "execution_count": 65,
   "id": "40bccc5b",
   "metadata": {},
   "outputs": [],
   "source": [
    "#performing mathematical operation on numpy array\n",
    "#np.add(),np.subract(),np.multiple(),np.divide,np.remainder()\n",
    "#a.sum()-array wise sum\n",
    "#a.min()-array wise minimum value\n",
    "#b.max(axis=0)-maximum value of an array row\n",
    "#b.cumsum(axis=1)-cumulative sum of the elements\n",
    "#a.mean()---mean\n",
    "#b.median()---median\n",
    "#a.corrcoef()---correlation coefficient\n",
    "#np.std(b)---standard deviation\n",
    "#exponentiation--np.exp()\n",
    "#square root----np.sqrt()\n",
    "#natural logarithm---np.log()\n",
    "#sin cos---np.sin() np.cos()\n"
   ]
  },
  {
   "cell_type": "code",
   "execution_count": 73,
   "id": "27fe2642",
   "metadata": {},
   "outputs": [
    {
     "name": "stdout",
     "output_type": "stream",
     "text": [
      "value of a:\n",
      " [1 2 3 4 5 6 7 8 9]\n",
      "value less than 5:\n",
      " [6 7 8 9]\n",
      "[2 4 6 7 8 9]\n"
     ]
    }
   ],
   "source": [
    "import numpy as np\n",
    "a=np.arange(1,10,1)\n",
    "print(\"value of a:\\n\",a)\n",
    "print(\"value less than 5:\\n\",a[a>5])\n",
    "print(a[(a>6)|(a%2==0)])"
   ]
  },
  {
   "cell_type": "markdown",
   "id": "2d92cdf2",
   "metadata": {},
   "source": [
    "### Transposing arrays\n"
   ]
  },
  {
   "cell_type": "code",
   "execution_count": 74,
   "id": "e5b4a24b",
   "metadata": {},
   "outputs": [],
   "source": [
    "#it means switching its dimension\n",
    "#T() and np.transpose()\n",
    "#no effect on 1D array"
   ]
  },
  {
   "cell_type": "code",
   "execution_count": 76,
   "id": "2994fcdf",
   "metadata": {},
   "outputs": [
    {
     "name": "stdout",
     "output_type": "stream",
     "text": [
      "orignal\n",
      " [1 2 3 4 5]\n",
      "transpose\n",
      " [1 2 3 4 5]\n"
     ]
    }
   ],
   "source": [
    "a=np.arange(1,6,1)\n",
    "print(\"orignal\\n\",a)\n",
    "b=np.transpose(a)\n",
    "print(\"transpose\\n\",b)  #no effect on 1D array"
   ]
  },
  {
   "cell_type": "code",
   "execution_count": 82,
   "id": "1537588a",
   "metadata": {},
   "outputs": [
    {
     "name": "stdout",
     "output_type": "stream",
     "text": [
      "orignal\n",
      " [[6 6 6 6]\n",
      " [6 6 6 6]\n",
      " [6 6 6 6]]\n",
      "transpose\n",
      " [[6 6 6]\n",
      " [6 6 6]\n",
      " [6 6 6]\n",
      " [6 6 6]]\n"
     ]
    }
   ],
   "source": [
    "a=np.full((3,4),6)\n",
    "print(\"orignal\\n\",a)\n",
    "b=a.T\n",
    "print(\"transpose\\n\",b)"
   ]
  },
  {
   "cell_type": "code",
   "execution_count": 83,
   "id": "1409fa8d",
   "metadata": {},
   "outputs": [],
   "source": [
    "##Inserting and deleting array elements\n",
    "#numpy.insert(arr,obj,values,axis)\n",
    "#arr-input array\n",
    "#obj--specifies the index before which insertion is to be made\n",
    "#values--array of a value to be inserted\n",
    "#axis--denotes the axis along which value have to be inserted\n"
   ]
  },
  {
   "cell_type": "code",
   "execution_count": 85,
   "id": "5e47d5ae",
   "metadata": {},
   "outputs": [
    {
     "name": "stdout",
     "output_type": "stream",
     "text": [
      "orignal\n",
      " [1 2 3 4 5 6]\n",
      "inserted\n",
      " [ 1  2  3 20  4  5  6]\n"
     ]
    }
   ],
   "source": [
    "#inserting values in Array\n",
    "a=np.array([1,2,3,4,5,6])\n",
    "print(\"orignal\\n\",a)\n",
    "a=np.insert(a,3,20)\n",
    "print (\"inserted\\n\",a)"
   ]
  },
  {
   "cell_type": "code",
   "execution_count": 86,
   "id": "0f08fc18",
   "metadata": {},
   "outputs": [],
   "source": [
    "#Deleting Array\n",
    "#np.delete(arr,obj,axis)"
   ]
  },
  {
   "cell_type": "code",
   "execution_count": 89,
   "id": "07aad219",
   "metadata": {},
   "outputs": [
    {
     "name": "stdout",
     "output_type": "stream",
     "text": [
      "orignal:\n",
      " [0 1 2 3 4 5 6 7 8 9]\n",
      "shape of a:\n",
      " (10,)\n",
      "after deleting:\n",
      " [0 1 2 3 4 6 7 8 9]\n",
      "shape of b:\n",
      " (9,)\n",
      "shape of c:\n",
      " (8,)\n"
     ]
    }
   ],
   "source": [
    "a=np.arange(10)\n",
    "print(\"orignal:\\n\",a)\n",
    "print(\"shape of a:\\n\",a.shape)\n",
    "b=np.delete(a,5)\n",
    "print(\"after deleting:\\n\",b)\n",
    "print(\"shape of b:\\n\",b.shape)\n",
    "c=np.delete(a,[6,7])\n",
    "print(\"shape of c:\\n\",c.shape)"
   ]
  },
  {
   "cell_type": "code",
   "execution_count": 91,
   "id": "1148219f",
   "metadata": {},
   "outputs": [
    {
     "name": "stdout",
     "output_type": "stream",
     "text": [
      "[[ 0  1  2  3]\n",
      " [ 4  5  6  7]\n",
      " [ 8  9 10 11]]\n",
      "the give array is\n",
      " [[ 0  1  2  3]\n",
      " [ 4  5  6  7]\n",
      " [ 8  9 10 11]]\n"
     ]
    }
   ],
   "source": [
    "#check if numpy array is empty\n",
    "a=np.arange(12).reshape(3,4)\n",
    "print(a)\n",
    "if(a.size==0):\n",
    "    print(\"the given array is empty\")\n",
    "else:\n",
    "    print(\"the give array is\\n\",a)"
   ]
  },
  {
   "cell_type": "code",
   "execution_count": 93,
   "id": "c49651d4",
   "metadata": {},
   "outputs": [
    {
     "name": "stdout",
     "output_type": "stream",
     "text": [
      "[0 1 2 3 4 5 6 7 8 9]\n",
      "(array([6], dtype=int64),)\n"
     ]
    }
   ],
   "source": [
    "#find index of a value\n",
    "a=np.arange(10)\n",
    "print(a)\n",
    "index=np.where(a==6)\n",
    "print(index)"
   ]
  },
  {
   "cell_type": "code",
   "execution_count": 96,
   "id": "c5fcc4e3",
   "metadata": {},
   "outputs": [
    {
     "name": "stdout",
     "output_type": "stream",
     "text": [
      "[0 1 2 3 4 5 6 7 8 9]\n",
      "[6]\n"
     ]
    }
   ],
   "source": [
    "a=np.arange(10)\n",
    "print(a)\n",
    "index=np.where(a==6)\n",
    "print(index[0]) #index[0]---tells only location and not data type"
   ]
  },
  {
   "cell_type": "code",
   "execution_count": 103,
   "id": "5dc4553b",
   "metadata": {},
   "outputs": [
    {
     "name": "stdout",
     "output_type": "stream",
     "text": [
      "[4 8 6 2 1 3 0]\n",
      "after sort:\n",
      " [0 1 2 3 4 6 8]\n"
     ]
    }
   ],
   "source": [
    "#sorting\n",
    "a=np.array([4,8,6,2,1,3,0])\n",
    "print(a)\n",
    "a.sort()\n",
    "print(\"after sort:\\n\",a)\n"
   ]
  },
  {
   "cell_type": "code",
   "execution_count": 104,
   "id": "33684017",
   "metadata": {},
   "outputs": [],
   "source": [
    "#Normalize array\n",
    "#normalize an array is the process of bringing the array value to some defined range.\n",
    "#x=(x-xmin)/(xmax-xmin)"
   ]
  },
  {
   "cell_type": "code",
   "execution_count": 105,
   "id": "ae603937",
   "metadata": {},
   "outputs": [
    {
     "name": "stdout",
     "output_type": "stream",
     "text": [
      "after normalize: [-0.89830508 -0.89322034 -1.          0.        ]\n"
     ]
    }
   ],
   "source": [
    "a=np.array([450,453,390,980])\n",
    "max=a.max()\n",
    "min=a.min()\n",
    "a=(a-max)/(max-min)\n",
    "print(\"after normalize:\",a)\n"
   ]
  },
  {
   "cell_type": "code",
   "execution_count": 7,
   "id": "ebc6b6a8",
   "metadata": {},
   "outputs": [
    {
     "name": "stdout",
     "output_type": "stream",
     "text": [
      "[[[ 0  1  2]\n",
      "  [ 3  4  5]\n",
      "  [ 6  7  8]\n",
      "  [ 9 10 11]]\n",
      "\n",
      " [[12 13 14]\n",
      "  [15 16 17]\n",
      "  [18 19 20]\n",
      "  [21 22 23]]\n",
      "\n",
      " [[24 25 26]\n",
      "  [27 28 29]\n",
      "  [30 31 32]\n",
      "  [33 34 35]]]\n",
      "[0 1 2]\n",
      "[2 3 4]\n"
     ]
    }
   ],
   "source": [
    "#subset \n",
    "import numpy as np\n",
    "a=np.arange(36).reshape(3,4,3)\n",
    "print(a)\n",
    "b=a.compress([1,1,1])\n",
    "print (b)\n",
    "c=a.compress([0,0,1,1,1])\n",
    "print(c)"
   ]
  },
  {
   "cell_type": "code",
   "execution_count": 10,
   "id": "9003c7f0",
   "metadata": {},
   "outputs": [
    {
     "name": "stdout",
     "output_type": "stream",
     "text": [
      "2D array\n",
      " [[1 2 3 4]]\n",
      "after reducing dimension:\n",
      " [1 2 3 4]\n"
     ]
    }
   ],
   "source": [
    "#Remove a redundant dimension \n",
    "a=np.array([[1,2,3,4]])\n",
    "print(\"2D array\\n\",a)\n",
    "b=a.squeeze()\n",
    "print(\"after reducing dimension:\\n\",b)"
   ]
  },
  {
   "cell_type": "code",
   "execution_count": 12,
   "id": "e06edd65",
   "metadata": {},
   "outputs": [
    {
     "name": "stdout",
     "output_type": "stream",
     "text": [
      "3D array\n",
      ": [[[ 0  1  2]\n",
      "  [ 3  4  5]\n",
      "  [ 6  7  8]]\n",
      "\n",
      " [[ 9 10 11]\n",
      "  [12 13 14]\n",
      "  [15 16 17]]\n",
      "\n",
      " [[18 19 20]\n",
      "  [21 22 23]\n",
      "  [24 25 26]]]\n",
      "Diagonal elements for Axis1=1 AND Axis2=2 ARE:\n",
      "\n",
      "[[ 0  4  8]\n",
      " [ 9 13 17]\n",
      " [18 22 26]]\n"
     ]
    }
   ],
   "source": [
    "#retrive diagonals \n",
    "a=np.arange(27).reshape(3,3,3)\n",
    "print(\"3D array\\n:\",a)\n",
    "print(\"Diagonal elements for Axis1=1 AND Axis2=2 ARE:\\n\")\n",
    "print(a.diagonal(axis1=1,axis2=2))"
   ]
  },
  {
   "cell_type": "code",
   "execution_count": 13,
   "id": "aa34eef1",
   "metadata": {},
   "outputs": [
    {
     "name": "stdout",
     "output_type": "stream",
     "text": [
      "2D array:\n",
      " [[ 56  58  60  62  64]\n",
      " [ 66  68  70  72  74]\n",
      " [ 76  78  80  82  84]\n",
      " [ 86  88  90  92  94]\n",
      " [ 96  98 100 102 104]]\n"
     ]
    }
   ],
   "source": [
    "#Subsetting Numpy array using indexing\n",
    "a=np.arange(56,106,2).reshape(5,5)\n",
    "print(\"2D array:\\n\",a)\n"
   ]
  },
  {
   "cell_type": "code",
   "execution_count": 14,
   "id": "c373817c",
   "metadata": {},
   "outputs": [
    {
     "data": {
      "text/plain": [
       "array([], shape=(0, 5), dtype=int32)"
      ]
     },
     "execution_count": 14,
     "metadata": {},
     "output_type": "execute_result"
    }
   ],
   "source": [
    "a[:0]"
   ]
  },
  {
   "cell_type": "code",
   "execution_count": 15,
   "id": "9b0653ca",
   "metadata": {},
   "outputs": [
    {
     "data": {
      "text/plain": [
       "array([56, 66, 76, 86, 96])"
      ]
     },
     "execution_count": 15,
     "metadata": {},
     "output_type": "execute_result"
    }
   ],
   "source": [
    "a[:,0]"
   ]
  },
  {
   "cell_type": "code",
   "execution_count": 18,
   "id": "9b51d2fc",
   "metadata": {},
   "outputs": [
    {
     "name": "stdout",
     "output_type": "stream",
     "text": [
      "[[1 2 3]\n",
      " [4 5 6]\n",
      " [7 8 9]]\n",
      "purely integer indexing:\n",
      " [3 5 7]\n"
     ]
    }
   ],
   "source": [
    "a=np.arange(1,10,1).reshape(3,3)\n",
    "print(a)\n",
    "print(\"purely integer indexing:\\n\",a[[0,1,2],[2,1,0]])"
   ]
  },
  {
   "cell_type": "markdown",
   "id": "ae3e70bb",
   "metadata": {},
   "source": [
    "### Phython programs\n"
   ]
  },
  {
   "cell_type": "code",
   "execution_count": 19,
   "id": "dffb83b4",
   "metadata": {},
   "outputs": [
    {
     "name": "stdout",
     "output_type": "stream",
     "text": [
      "[[ 0  1  2]\n",
      " [ 3  4  5]\n",
      " [ 6  7  8]\n",
      " [ 9 10 11]]\n",
      "shape of a:\n",
      " (4, 3)\n",
      "after insertion;\n",
      " [[ 0  5  1  2]\n",
      " [ 3  5  4  5]\n",
      " [ 6  5  7  8]\n",
      " [ 9  5 10 11]]\n",
      "shape: (4, 4)\n",
      "array after insertion:\n",
      " [[ 0  5  1  2]\n",
      " [ 3  5  4  5]\n",
      " [ 6  6  6  6]\n",
      " [ 6  5  7  8]\n",
      " [ 9  5 10 11]]\n",
      "shape: (5, 4)\n"
     ]
    }
   ],
   "source": [
    "#insert row as well as column of 2d array\n",
    "import numpy as np\n",
    "a=np.arange(12).reshape(4,3)\n",
    "print(a)\n",
    "print(\"shape of a:\\n\",a.shape)\n",
    "a=np.insert(a,1,5,axis=1)\n",
    "print(\"after insertion;\\n\",a)\n",
    "print(\"shape:\",a.shape)\n",
    "a=np.insert(a,2,6,axis=0)\n",
    "print(\"array after insertion:\\n\",a)\n",
    "print(\"shape:\",a.shape)"
   ]
  },
  {
   "cell_type": "code",
   "execution_count": 24,
   "id": "ab9c624e",
   "metadata": {},
   "outputs": [
    {
     "name": "stdout",
     "output_type": "stream",
     "text": [
      "[[ 0  1  2]\n",
      " [ 3  4  5]\n",
      " [ 6  7  8]\n",
      " [ 9 10 11]]\n",
      "after insert:\n",
      " [ 0  7  1  2  3  4  7  5  6  7  8  9 10 11]\n",
      "(14,)\n",
      "after insert [[ 0  8  1  8  2]\n",
      " [ 3  8  4  8  5]\n",
      " [ 6  8  7  8  8]\n",
      " [ 9  8 10  8 11]]\n"
     ]
    }
   ],
   "source": [
    "#insert element in row as well as in a column of a 2D array at mulyiple  insertion point\n",
    "a=np.arange(12).reshape(4,3)\n",
    "print(a)\n",
    "#insert 7 after 1 and 5\n",
    "a=np.insert(a,(1,5),7)\n",
    "print(\"after insert:\\n\",a)\n",
    "print(a.shape)\n",
    "a=np.arange(12).reshape(4,3)\n",
    "#8 will be inserted before first and second column\n",
    "a=np.insert(a,(1,2),8,axis=1)\n",
    "print(\"after insert\",a)"
   ]
  },
  {
   "cell_type": "code",
   "execution_count": 5,
   "id": "168a1be3",
   "metadata": {},
   "outputs": [],
   "source": [
    "##3 INtersection and difference"
   ]
  },
  {
   "cell_type": "code",
   "execution_count": 7,
   "id": "094bb943",
   "metadata": {},
   "outputs": [],
   "source": [
    "n1=np.array([10,20,30,40])\n",
    "n2=np.array([50,40,80,90])\n"
   ]
  },
  {
   "cell_type": "code",
   "execution_count": 8,
   "id": "862d2ad4",
   "metadata": {},
   "outputs": [
    {
     "data": {
      "text/plain": [
       "array([40])"
      ]
     },
     "execution_count": 8,
     "metadata": {},
     "output_type": "execute_result"
    }
   ],
   "source": [
    "#intersection\n",
    "np.intersect1d(n1,n2)"
   ]
  },
  {
   "cell_type": "code",
   "execution_count": 10,
   "id": "ff56cb6a",
   "metadata": {},
   "outputs": [
    {
     "data": {
      "text/plain": [
       "array([50, 80, 90])"
      ]
     },
     "execution_count": 10,
     "metadata": {},
     "output_type": "execute_result"
    }
   ],
   "source": [
    "#unique in n2\n",
    "np.setdiff1d(n2,n1)"
   ]
  },
  {
   "cell_type": "code",
   "execution_count": 11,
   "id": "31c38bd8",
   "metadata": {},
   "outputs": [
    {
     "data": {
      "text/plain": [
       "array([10, 20, 30])"
      ]
     },
     "execution_count": 11,
     "metadata": {},
     "output_type": "execute_result"
    }
   ],
   "source": [
    "#unique in n1\n",
    "np.setdiff1d(n1,n2)"
   ]
  },
  {
   "cell_type": "code",
   "execution_count": null,
   "id": "d57b5d09",
   "metadata": {},
   "outputs": [],
   "source": []
  }
 ],
 "metadata": {
  "kernelspec": {
   "display_name": "Python 3 (ipykernel)",
   "language": "python",
   "name": "python3"
  },
  "language_info": {
   "codemirror_mode": {
    "name": "ipython",
    "version": 3
   },
   "file_extension": ".py",
   "mimetype": "text/x-python",
   "name": "python",
   "nbconvert_exporter": "python",
   "pygments_lexer": "ipython3",
   "version": "3.9.13"
  }
 },
 "nbformat": 4,
 "nbformat_minor": 5
}
