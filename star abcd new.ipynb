{
 "cells": [
  {
   "cell_type": "code",
   "execution_count": 5,
   "id": "3a453cde",
   "metadata": {},
   "outputs": [
    {
     "name": "stdout",
     "output_type": "stream",
     "text": [
      "    *\n",
      "\n",
      "   **\n",
      "\n",
      "  ***\n",
      "\n",
      " ****\n",
      "\n",
      "*****\n",
      "\n"
     ]
    }
   ],
   "source": [
    "for i in range(1,6):\n",
    "    for k in range(1,6-i):\n",
    "        print(\" \",end=\"\")\n",
    "    for j in range(1,i+1):\n",
    "        print(\"*\",end=\"\")\n",
    "    print(\"\\n\")"
   ]
  },
  {
   "cell_type": "code",
   "execution_count": 6,
   "id": "87d825d3",
   "metadata": {},
   "outputs": [
    {
     "name": "stdout",
     "output_type": "stream",
     "text": [
      "*****\n",
      "\n",
      " ****\n",
      "\n",
      "  ***\n",
      "\n",
      "   **\n",
      "\n",
      "    *\n",
      "\n"
     ]
    }
   ],
   "source": [
    "for i in range(5,0,-1):\n",
    "    for k in range(1,6-i):\n",
    "        print(\" \",end=\"\")\n",
    "    for j in range(1,i+1):\n",
    "        print(\"*\",end=\"\")\n",
    "    print(\"\\n\")"
   ]
  },
  {
   "cell_type": "code",
   "execution_count": 8,
   "id": "92dae287",
   "metadata": {},
   "outputs": [
    {
     "name": "stdout",
     "output_type": "stream",
     "text": [
      "*\n",
      "\n",
      "**\n",
      "\n",
      "***\n",
      "\n",
      "****\n",
      "\n",
      "*****\n",
      "\n"
     ]
    }
   ],
   "source": [
    "for i in range (1,6):\n",
    "    for j in range(1,i+1):\n",
    "        print(\"*\",end=\"\")\n",
    "    print(\"\\n\")"
   ]
  },
  {
   "cell_type": "code",
   "execution_count": 9,
   "id": "edacffba",
   "metadata": {},
   "outputs": [
    {
     "name": "stdout",
     "output_type": "stream",
     "text": [
      "*****\n",
      "\n",
      "****\n",
      "\n",
      "***\n",
      "\n",
      "**\n",
      "\n",
      "*\n",
      "\n"
     ]
    }
   ],
   "source": [
    "for i in range(5,0,-1):\n",
    "    for j in range(1,i+1):\n",
    "        print(\"*\",end=\"\")\n",
    "    print(\"\\n\")"
   ]
  },
  {
   "cell_type": "code",
   "execution_count": 10,
   "id": "d82f98f8",
   "metadata": {},
   "outputs": [
    {
     "name": "stdout",
     "output_type": "stream",
     "text": [
      "    *\n",
      "\n",
      "   ***\n",
      "\n",
      "  *****\n",
      "\n",
      " *******\n",
      "\n",
      "*********\n",
      "\n"
     ]
    }
   ],
   "source": [
    "for i in range(1,6):\n",
    "    for k in range(1,6-i):\n",
    "        print(\" \",end=\"\")\n",
    "    for j in range(1,(2*i-1)+1):\n",
    "        print(\"*\",end=\"\")\n",
    "    print(\"\\n\")"
   ]
  },
  {
   "cell_type": "code",
   "execution_count": 12,
   "id": "9698e3d2",
   "metadata": {},
   "outputs": [
    {
     "name": "stdout",
     "output_type": "stream",
     "text": [
      "*********\n",
      "\n",
      " *******\n",
      "\n",
      "  *****\n",
      "\n",
      "   ***\n",
      "\n",
      "    *\n",
      "\n"
     ]
    }
   ],
   "source": [
    "for i in range(5,0,-1):\n",
    "    for k in range(1,6-i):\n",
    "        print(\" \",end=\"\")\n",
    "    for j in range(1,(2*i-1)+1):\n",
    "        print(\"*\",end=\"\")\n",
    "    print(\"\\n\")\n",
    "                        "
   ]
  },
  {
   "cell_type": "code",
   "execution_count": 14,
   "id": "5fffa37a",
   "metadata": {},
   "outputs": [
    {
     "name": "stdout",
     "output_type": "stream",
     "text": [
      "enter the number4\n",
      "A\n",
      "AB\n",
      "ABC\n",
      "ABCD\n"
     ]
    }
   ],
   "source": [
    "n=int(input(\"enter the number\"))\n",
    "for i in range(65,65+n):\n",
    "    for j in range(65,1+i):\n",
    "        print(chr(j),end=\"\")\n",
    "    print()"
   ]
  },
  {
   "cell_type": "code",
   "execution_count": 15,
   "id": "586d6414",
   "metadata": {},
   "outputs": [
    {
     "name": "stdout",
     "output_type": "stream",
     "text": [
      "enter the number5\n",
      "A\n",
      "BB\n",
      "CCC\n",
      "DDDD\n",
      "EEEEE\n"
     ]
    }
   ],
   "source": [
    "n=int(input(\"enter the number\"))\n",
    "for i in range(65,65+n):\n",
    "    for j in range(65,1+i):\n",
    "        print(chr(i),end=\"\")\n",
    "    print()"
   ]
  },
  {
   "cell_type": "code",
   "execution_count": 16,
   "id": "cced1d6a",
   "metadata": {},
   "outputs": [
    {
     "name": "stdout",
     "output_type": "stream",
     "text": [
      "enter the number5\n",
      "1\n",
      "22\n",
      "333\n",
      "4444\n",
      "55555\n"
     ]
    }
   ],
   "source": [
    "n =int(input(\"enter the number\"))\n",
    "for i in range(49,49+n):\n",
    "    for j in range(49,1+i):\n",
    "        print(chr(i),end=\"\")\n",
    "    print()"
   ]
  },
  {
   "cell_type": "code",
   "execution_count": 17,
   "id": "4e063bbe",
   "metadata": {},
   "outputs": [
    {
     "name": "stdout",
     "output_type": "stream",
     "text": [
      "enter the number5\n",
      "1\n",
      "12\n",
      "123\n",
      "1234\n",
      "12345\n"
     ]
    }
   ],
   "source": [
    "n=int(input(\"enter the number\"))\n",
    "for i in range(49,49+n):\n",
    "    for j in range(49,1+i):\n",
    "        print(chr(j),end=\"\")\n",
    "    print()"
   ]
  },
  {
   "cell_type": "code",
   "execution_count": 19,
   "id": "0145d0b7",
   "metadata": {},
   "outputs": [
    {
     "name": "stdout",
     "output_type": "stream",
     "text": [
      "enter the number26\n",
      "a\n",
      "ab\n",
      "abc\n",
      "abcd\n",
      "abcde\n",
      "abcdef\n",
      "abcdefg\n",
      "abcdefgh\n",
      "abcdefghi\n",
      "abcdefghij\n",
      "abcdefghijk\n",
      "abcdefghijkl\n",
      "abcdefghijklm\n",
      "abcdefghijklmn\n",
      "abcdefghijklmno\n",
      "abcdefghijklmnop\n",
      "abcdefghijklmnopq\n",
      "abcdefghijklmnopqr\n",
      "abcdefghijklmnopqrs\n",
      "abcdefghijklmnopqrst\n",
      "abcdefghijklmnopqrstu\n",
      "abcdefghijklmnopqrstuv\n",
      "abcdefghijklmnopqrstuvw\n",
      "abcdefghijklmnopqrstuvwx\n",
      "abcdefghijklmnopqrstuvwxy\n",
      "abcdefghijklmnopqrstuvwxyz\n"
     ]
    }
   ],
   "source": [
    "n=int(input(\"enter the number\"))\n",
    "for i in range(97,97+n):\n",
    "    for j in range(97,1+i):\n",
    "        print(chr(j),end=\"\")\n",
    "    print()\n",
    "      "
   ]
  },
  {
   "cell_type": "code",
   "execution_count": null,
   "id": "c8c5bf4a",
   "metadata": {},
   "outputs": [],
   "source": []
  }
 ],
 "metadata": {
  "kernelspec": {
   "display_name": "Python 3 (ipykernel)",
   "language": "python",
   "name": "python3"
  },
  "language_info": {
   "codemirror_mode": {
    "name": "ipython",
    "version": 3
   },
   "file_extension": ".py",
   "mimetype": "text/x-python",
   "name": "python",
   "nbconvert_exporter": "python",
   "pygments_lexer": "ipython3",
   "version": "3.9.13"
  }
 },
 "nbformat": 4,
 "nbformat_minor": 5
}
