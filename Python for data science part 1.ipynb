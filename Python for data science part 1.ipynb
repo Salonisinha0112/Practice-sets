{
 "cells": [
  {
   "cell_type": "code",
   "execution_count": 1,
   "id": "7b6d9fd1",
   "metadata": {},
   "outputs": [],
   "source": [
    "#data is been stored in variable\n",
    "#variable is tempory storage\n",
    "\n",
    "student=\"sam\""
   ]
  },
  {
   "cell_type": "code",
   "execution_count": 2,
   "id": "af9cbf05",
   "metadata": {},
   "outputs": [
    {
     "data": {
      "text/plain": [
       "'sam'"
      ]
     },
     "execution_count": 2,
     "metadata": {},
     "output_type": "execute_result"
    }
   ],
   "source": [
    "student"
   ]
  },
  {
   "cell_type": "code",
   "execution_count": 3,
   "id": "3ebfcfa3",
   "metadata": {},
   "outputs": [],
   "source": [
    "student=\"john\""
   ]
  },
  {
   "cell_type": "code",
   "execution_count": 4,
   "id": "f88a3204",
   "metadata": {},
   "outputs": [
    {
     "data": {
      "text/plain": [
       "'john'"
      ]
     },
     "execution_count": 4,
     "metadata": {},
     "output_type": "execute_result"
    }
   ],
   "source": [
    "student"
   ]
  },
  {
   "cell_type": "code",
   "execution_count": 5,
   "id": "f36ac115",
   "metadata": {},
   "outputs": [],
   "source": [
    "#variable is associated with a data type\n",
    "#int\n",
    "#float\n",
    "#Boolean----True or False\n",
    "#string---\"...\"\n",
    "#complex"
   ]
  },
  {
   "cell_type": "code",
   "execution_count": 6,
   "id": "9c5e8963",
   "metadata": {},
   "outputs": [
    {
     "data": {
      "text/plain": [
       "10"
      ]
     },
     "execution_count": 6,
     "metadata": {},
     "output_type": "execute_result"
    }
   ],
   "source": [
    "a1=10\n",
    "a1"
   ]
  },
  {
   "cell_type": "code",
   "execution_count": 7,
   "id": "8fcdc14d",
   "metadata": {},
   "outputs": [
    {
     "data": {
      "text/plain": [
       "int"
      ]
     },
     "execution_count": 7,
     "metadata": {},
     "output_type": "execute_result"
    }
   ],
   "source": [
    "type(a1)"
   ]
  },
  {
   "cell_type": "code",
   "execution_count": 9,
   "id": "c6894a97",
   "metadata": {},
   "outputs": [
    {
     "data": {
      "text/plain": [
       "3.14"
      ]
     },
     "execution_count": 9,
     "metadata": {},
     "output_type": "execute_result"
    }
   ],
   "source": [
    "a1=3.14\n",
    "a1"
   ]
  },
  {
   "cell_type": "code",
   "execution_count": 10,
   "id": "c15570b8",
   "metadata": {},
   "outputs": [
    {
     "data": {
      "text/plain": [
       "float"
      ]
     },
     "execution_count": 10,
     "metadata": {},
     "output_type": "execute_result"
    }
   ],
   "source": [
    "type(a1)"
   ]
  },
  {
   "cell_type": "code",
   "execution_count": 11,
   "id": "61432372",
   "metadata": {},
   "outputs": [
    {
     "data": {
      "text/plain": [
       "True"
      ]
     },
     "execution_count": 11,
     "metadata": {},
     "output_type": "execute_result"
    }
   ],
   "source": [
    "a1=True\n",
    "a1"
   ]
  },
  {
   "cell_type": "code",
   "execution_count": 12,
   "id": "8fc74e0f",
   "metadata": {},
   "outputs": [
    {
     "data": {
      "text/plain": [
       "bool"
      ]
     },
     "execution_count": 12,
     "metadata": {},
     "output_type": "execute_result"
    }
   ],
   "source": [
    "type(a1)"
   ]
  },
  {
   "cell_type": "code",
   "execution_count": 14,
   "id": "aa24a420",
   "metadata": {},
   "outputs": [
    {
     "data": {
      "text/plain": [
       "'heelo'"
      ]
     },
     "execution_count": 14,
     "metadata": {},
     "output_type": "execute_result"
    }
   ],
   "source": [
    "a1=\"heelo\"\n",
    "a1"
   ]
  },
  {
   "cell_type": "code",
   "execution_count": 15,
   "id": "931fd39f",
   "metadata": {},
   "outputs": [
    {
     "data": {
      "text/plain": [
       "str"
      ]
     },
     "execution_count": 15,
     "metadata": {},
     "output_type": "execute_result"
    }
   ],
   "source": [
    "type(a1)"
   ]
  },
  {
   "cell_type": "code",
   "execution_count": 16,
   "id": "e6a65857",
   "metadata": {},
   "outputs": [],
   "source": [
    "a1=3+4j"
   ]
  },
  {
   "cell_type": "code",
   "execution_count": 17,
   "id": "1549ac74",
   "metadata": {},
   "outputs": [
    {
     "data": {
      "text/plain": [
       "(3+4j)"
      ]
     },
     "execution_count": 17,
     "metadata": {},
     "output_type": "execute_result"
    }
   ],
   "source": [
    "a1"
   ]
  },
  {
   "cell_type": "code",
   "execution_count": 18,
   "id": "4009a23f",
   "metadata": {},
   "outputs": [
    {
     "data": {
      "text/plain": [
       "complex"
      ]
     },
     "execution_count": 18,
     "metadata": {},
     "output_type": "execute_result"
    }
   ],
   "source": [
    "type(a1)"
   ]
  },
  {
   "cell_type": "code",
   "execution_count": 19,
   "id": "01521912",
   "metadata": {},
   "outputs": [],
   "source": [
    "#Arithmetic operators\n",
    "# +-/*"
   ]
  },
  {
   "cell_type": "code",
   "execution_count": 20,
   "id": "fbbf8c55",
   "metadata": {},
   "outputs": [],
   "source": [
    "a=10\n",
    "b=30"
   ]
  },
  {
   "cell_type": "code",
   "execution_count": 21,
   "id": "301b75d1",
   "metadata": {},
   "outputs": [
    {
     "data": {
      "text/plain": [
       "(10, 30)"
      ]
     },
     "execution_count": 21,
     "metadata": {},
     "output_type": "execute_result"
    }
   ],
   "source": [
    "a,b"
   ]
  },
  {
   "cell_type": "code",
   "execution_count": 22,
   "id": "6575ee93",
   "metadata": {},
   "outputs": [
    {
     "data": {
      "text/plain": [
       "40"
      ]
     },
     "execution_count": 22,
     "metadata": {},
     "output_type": "execute_result"
    }
   ],
   "source": [
    "a+b"
   ]
  },
  {
   "cell_type": "code",
   "execution_count": 23,
   "id": "3916ca9c",
   "metadata": {},
   "outputs": [
    {
     "data": {
      "text/plain": [
       "-20"
      ]
     },
     "execution_count": 23,
     "metadata": {},
     "output_type": "execute_result"
    }
   ],
   "source": [
    "a-b"
   ]
  },
  {
   "cell_type": "code",
   "execution_count": 24,
   "id": "a4be97d1",
   "metadata": {},
   "outputs": [
    {
     "data": {
      "text/plain": [
       "0.3333333333333333"
      ]
     },
     "execution_count": 24,
     "metadata": {},
     "output_type": "execute_result"
    }
   ],
   "source": [
    "a/b"
   ]
  },
  {
   "cell_type": "code",
   "execution_count": 25,
   "id": "6000d26a",
   "metadata": {},
   "outputs": [
    {
     "data": {
      "text/plain": [
       "300"
      ]
     },
     "execution_count": 25,
     "metadata": {},
     "output_type": "execute_result"
    }
   ],
   "source": [
    "a*b"
   ]
  },
  {
   "cell_type": "code",
   "execution_count": 27,
   "id": "2c64e8de",
   "metadata": {},
   "outputs": [],
   "source": [
    "#Relational operators\n",
    "#<,>,==,!"
   ]
  },
  {
   "cell_type": "code",
   "execution_count": 28,
   "id": "d813ba86",
   "metadata": {},
   "outputs": [],
   "source": [
    "a=30\n",
    "b=50"
   ]
  },
  {
   "cell_type": "code",
   "execution_count": 29,
   "id": "cbda189b",
   "metadata": {},
   "outputs": [
    {
     "data": {
      "text/plain": [
       "False"
      ]
     },
     "execution_count": 29,
     "metadata": {},
     "output_type": "execute_result"
    }
   ],
   "source": [
    "a>b"
   ]
  },
  {
   "cell_type": "code",
   "execution_count": 30,
   "id": "16feb883",
   "metadata": {},
   "outputs": [
    {
     "data": {
      "text/plain": [
       "True"
      ]
     },
     "execution_count": 30,
     "metadata": {},
     "output_type": "execute_result"
    }
   ],
   "source": [
    "a<b"
   ]
  },
  {
   "cell_type": "code",
   "execution_count": 31,
   "id": "1d097e4a",
   "metadata": {},
   "outputs": [
    {
     "data": {
      "text/plain": [
       "False"
      ]
     },
     "execution_count": 31,
     "metadata": {},
     "output_type": "execute_result"
    }
   ],
   "source": [
    "a==b"
   ]
  },
  {
   "cell_type": "code",
   "execution_count": 32,
   "id": "35ec38c1",
   "metadata": {},
   "outputs": [
    {
     "data": {
      "text/plain": [
       "True"
      ]
     },
     "execution_count": 32,
     "metadata": {},
     "output_type": "execute_result"
    }
   ],
   "source": [
    "a!=b  #not equal"
   ]
  },
  {
   "cell_type": "code",
   "execution_count": 34,
   "id": "fde9c656",
   "metadata": {},
   "outputs": [],
   "source": [
    "#logical operators\n",
    "# & |"
   ]
  },
  {
   "cell_type": "code",
   "execution_count": 35,
   "id": "1f57087f",
   "metadata": {},
   "outputs": [],
   "source": [
    "a=True\n",
    "b=False\n"
   ]
  },
  {
   "cell_type": "code",
   "execution_count": 36,
   "id": "647ababf",
   "metadata": {},
   "outputs": [
    {
     "data": {
      "text/plain": [
       "True"
      ]
     },
     "execution_count": 36,
     "metadata": {},
     "output_type": "execute_result"
    }
   ],
   "source": [
    "a & a"
   ]
  },
  {
   "cell_type": "code",
   "execution_count": 37,
   "id": "bb41972e",
   "metadata": {},
   "outputs": [
    {
     "data": {
      "text/plain": [
       "False"
      ]
     },
     "execution_count": 37,
     "metadata": {},
     "output_type": "execute_result"
    }
   ],
   "source": [
    "a & b"
   ]
  },
  {
   "cell_type": "code",
   "execution_count": 38,
   "id": "f7d62509",
   "metadata": {},
   "outputs": [
    {
     "data": {
      "text/plain": [
       "False"
      ]
     },
     "execution_count": 38,
     "metadata": {},
     "output_type": "execute_result"
    }
   ],
   "source": [
    "b & b"
   ]
  },
  {
   "cell_type": "code",
   "execution_count": 39,
   "id": "1ca10c87",
   "metadata": {},
   "outputs": [
    {
     "data": {
      "text/plain": [
       "True"
      ]
     },
     "execution_count": 39,
     "metadata": {},
     "output_type": "execute_result"
    }
   ],
   "source": [
    "a | b"
   ]
  },
  {
   "cell_type": "code",
   "execution_count": 40,
   "id": "65fe3acb",
   "metadata": {},
   "outputs": [
    {
     "data": {
      "text/plain": [
       "True"
      ]
     },
     "execution_count": 40,
     "metadata": {},
     "output_type": "execute_result"
    }
   ],
   "source": [
    "b | a"
   ]
  },
  {
   "cell_type": "code",
   "execution_count": 41,
   "id": "4ad8bafe",
   "metadata": {},
   "outputs": [
    {
     "data": {
      "text/plain": [
       "True"
      ]
     },
     "execution_count": 41,
     "metadata": {},
     "output_type": "execute_result"
    }
   ],
   "source": [
    "a|a\n"
   ]
  },
  {
   "cell_type": "code",
   "execution_count": 42,
   "id": "ca7b5257",
   "metadata": {},
   "outputs": [
    {
     "data": {
      "text/plain": [
       "False"
      ]
     },
     "execution_count": 42,
     "metadata": {},
     "output_type": "execute_result"
    }
   ],
   "source": [
    "b|b"
   ]
  },
  {
   "cell_type": "code",
   "execution_count": 43,
   "id": "39fcdcfb",
   "metadata": {},
   "outputs": [],
   "source": [
    "# Python tokens\n",
    " #smallest meaning component in a program\n",
    "#keywords\n",
    "#Identifiers\n",
    "#literals\n",
    "#operators\n",
    "\n",
    "\n",
    "#keywords are special reserved words\n",
    "#False   #class     #Finally   #Is        #Return\n",
    "#None    #continue  #For       #Lambda    #Try\n",
    "#True    #def       #From      #Nonlocal  #While \n",
    "#and     #del       #Global    #Not       #With\n",
    "#as      #elif      #if        #Or        #Yield\n",
    "\n",
    "\n",
    "#cant use keywords for variable\n",
    "\n",
    "\n"
   ]
  },
  {
   "cell_type": "code",
   "execution_count": 44,
   "id": "d9c460fc",
   "metadata": {},
   "outputs": [],
   "source": [
    "#Python Identifiers----names used for variable functions or object\n",
    "#rules---1.No special character expect_(underscore)\n",
    "         #2.Identifiers are case sensitive\n",
    "         #3.First letter can be digit\n",
    "        "
   ]
  },
  {
   "cell_type": "code",
   "execution_count": 45,
   "id": "7d9bcde7",
   "metadata": {},
   "outputs": [],
   "source": [
    "#python literal---they are constant"
   ]
  },
  {
   "cell_type": "code",
   "execution_count": 46,
   "id": "d3cc5fac",
   "metadata": {},
   "outputs": [],
   "source": [
    "a=\"Hello world\""
   ]
  },
  {
   "cell_type": "code",
   "execution_count": 47,
   "id": "e714e851",
   "metadata": {},
   "outputs": [
    {
     "data": {
      "text/plain": [
       "'Hello world'"
      ]
     },
     "execution_count": 47,
     "metadata": {},
     "output_type": "execute_result"
    }
   ],
   "source": [
    "a"
   ]
  },
  {
   "cell_type": "code",
   "execution_count": 48,
   "id": "8d9db2d1",
   "metadata": {},
   "outputs": [],
   "source": [
    "#Python strings\n",
    "#(''),(\"\"),('''abc''')\n"
   ]
  },
  {
   "cell_type": "code",
   "execution_count": 49,
   "id": "81b924bf",
   "metadata": {},
   "outputs": [],
   "source": [
    "#Extracting Individual Character\n",
    "my_string=\"My name is john\""
   ]
  },
  {
   "cell_type": "code",
   "execution_count": 50,
   "id": "ce8e28cf",
   "metadata": {},
   "outputs": [
    {
     "data": {
      "text/plain": [
       "'My name is john'"
      ]
     },
     "execution_count": 50,
     "metadata": {},
     "output_type": "execute_result"
    }
   ],
   "source": [
    "my_string"
   ]
  },
  {
   "cell_type": "code",
   "execution_count": 51,
   "id": "d9536212",
   "metadata": {},
   "outputs": [
    {
     "data": {
      "text/plain": [
       "'M'"
      ]
     },
     "execution_count": 51,
     "metadata": {},
     "output_type": "execute_result"
    }
   ],
   "source": [
    "my_string[0]"
   ]
  },
  {
   "cell_type": "code",
   "execution_count": 52,
   "id": "3082b9ba",
   "metadata": {},
   "outputs": [
    {
     "data": {
      "text/plain": [
       "'n'"
      ]
     },
     "execution_count": 52,
     "metadata": {},
     "output_type": "execute_result"
    }
   ],
   "source": [
    "my_string[-1]"
   ]
  },
  {
   "cell_type": "code",
   "execution_count": 53,
   "id": "149e09ff",
   "metadata": {},
   "outputs": [
    {
     "data": {
      "text/plain": [
       "'me is '"
      ]
     },
     "execution_count": 53,
     "metadata": {},
     "output_type": "execute_result"
    }
   ],
   "source": [
    "my_string[5:11]"
   ]
  },
  {
   "cell_type": "code",
   "execution_count": 54,
   "id": "9bd73847",
   "metadata": {},
   "outputs": [],
   "source": [
    "#string Functions\n",
    "#1.length of string\n",
    "#2.String to lower case\n",
    "#3.String to upper case\n",
    "#4.Replace\n",
    "#5.count\n",
    "#6.find---finding the index of substring\n",
    "#7.splitting---to split"
   ]
  },
  {
   "cell_type": "code",
   "execution_count": 55,
   "id": "30b42d9b",
   "metadata": {},
   "outputs": [
    {
     "data": {
      "text/plain": [
       "15"
      ]
     },
     "execution_count": 55,
     "metadata": {},
     "output_type": "execute_result"
    }
   ],
   "source": [
    "#length\n",
    "len(my_string)"
   ]
  },
  {
   "cell_type": "code",
   "execution_count": 57,
   "id": "b35e8dbc",
   "metadata": {},
   "outputs": [
    {
     "data": {
      "text/plain": [
       "'my name is john'"
      ]
     },
     "execution_count": 57,
     "metadata": {},
     "output_type": "execute_result"
    }
   ],
   "source": [
    "#lower case\n",
    "my_string.lower()"
   ]
  },
  {
   "cell_type": "code",
   "execution_count": 58,
   "id": "072e5ec6",
   "metadata": {},
   "outputs": [
    {
     "data": {
      "text/plain": [
       "'MY NAME IS JOHN'"
      ]
     },
     "execution_count": 58,
     "metadata": {},
     "output_type": "execute_result"
    }
   ],
   "source": [
    "#upper case\n",
    "my_string.upper()"
   ]
  },
  {
   "cell_type": "code",
   "execution_count": 59,
   "id": "197029b5",
   "metadata": {},
   "outputs": [
    {
     "data": {
      "text/plain": [
       "'My nawe is john'"
      ]
     },
     "execution_count": 59,
     "metadata": {},
     "output_type": "execute_result"
    }
   ],
   "source": [
    "#replace (first parameter--the one to be replaced second ---replaced )\n",
    "my_string.replace('m','w')"
   ]
  },
  {
   "cell_type": "code",
   "execution_count": 60,
   "id": "ed48e64c",
   "metadata": {},
   "outputs": [
    {
     "data": {
      "text/plain": [
       "1"
      ]
     },
     "execution_count": 60,
     "metadata": {},
     "output_type": "execute_result"
    }
   ],
   "source": [
    "#count\n",
    "my_string.count(\"is\")"
   ]
  },
  {
   "cell_type": "code",
   "execution_count": 64,
   "id": "66fd034d",
   "metadata": {},
   "outputs": [
    {
     "data": {
      "text/plain": [
       "11"
      ]
     },
     "execution_count": 64,
     "metadata": {},
     "output_type": "execute_result"
    }
   ],
   "source": [
    "#find\n",
    "my_string.find(\"john\")"
   ]
  },
  {
   "cell_type": "code",
   "execution_count": 65,
   "id": "58cf7a13",
   "metadata": {},
   "outputs": [
    {
     "name": "stdout",
     "output_type": "stream",
     "text": [
      "i like apple,mango,orange\n"
     ]
    }
   ],
   "source": [
    "fruit=\"i like apple,mango,orange\"\n",
    "print(fruit)"
   ]
  },
  {
   "cell_type": "code",
   "execution_count": 66,
   "id": "e1650d3c",
   "metadata": {},
   "outputs": [
    {
     "data": {
      "text/plain": [
       "['i like apple', 'mango', 'orange']"
      ]
     },
     "execution_count": 66,
     "metadata": {},
     "output_type": "execute_result"
    }
   ],
   "source": [
    "#split\n",
    "fruit.split(\",\")"
   ]
  },
  {
   "cell_type": "markdown",
   "id": "f8097629",
   "metadata": {},
   "source": [
    "## Data structure in Python\n",
    "##### 1.Tuple     2.List     3.Dictionary     4.Set\n"
   ]
  },
  {
   "cell_type": "markdown",
   "id": "fa13b92e",
   "metadata": {},
   "source": [
    "### 1.Tuple\n",
    "It is an ordered collection of element enclosed within()\n",
    ",it is immutable,once stored cant be changed, can store hetrogenous data like..integers,alphabets,logical values\n",
    "\n"
   ]
  },
  {
   "cell_type": "code",
   "execution_count": 70,
   "id": "fe74bcf7",
   "metadata": {},
   "outputs": [],
   "source": [
    "tup1=(1,True,a,3.14)\n"
   ]
  },
  {
   "cell_type": "code",
   "execution_count": 71,
   "id": "75c7c6f8",
   "metadata": {},
   "outputs": [
    {
     "name": "stdout",
     "output_type": "stream",
     "text": [
      "(1, True, 'Hello world', 3.14)\n"
     ]
    }
   ],
   "source": [
    "print(tup1)"
   ]
  },
  {
   "cell_type": "code",
   "execution_count": 73,
   "id": "fbab3350",
   "metadata": {},
   "outputs": [
    {
     "data": {
      "text/plain": [
       "tuple"
      ]
     },
     "execution_count": 73,
     "metadata": {},
     "output_type": "execute_result"
    }
   ],
   "source": [
    "type(tup1)"
   ]
  },
  {
   "cell_type": "code",
   "execution_count": 74,
   "id": "e5abfcfc",
   "metadata": {},
   "outputs": [
    {
     "data": {
      "text/plain": [
       "True"
      ]
     },
     "execution_count": 74,
     "metadata": {},
     "output_type": "execute_result"
    }
   ],
   "source": [
    "#Extracting Individual Elements\n",
    "#slicing\n",
    "tup1[1]\n"
   ]
  },
  {
   "cell_type": "code",
   "execution_count": 75,
   "id": "d5e70958",
   "metadata": {},
   "outputs": [
    {
     "data": {
      "text/plain": [
       "3.14"
      ]
     },
     "execution_count": 75,
     "metadata": {},
     "output_type": "execute_result"
    }
   ],
   "source": [
    "tup1[-1]"
   ]
  },
  {
   "cell_type": "code",
   "execution_count": 76,
   "id": "a309e2c1",
   "metadata": {},
   "outputs": [
    {
     "data": {
      "text/plain": [
       "(True, 'Hello world', 3.14)"
      ]
     },
     "execution_count": 76,
     "metadata": {},
     "output_type": "execute_result"
    }
   ],
   "source": [
    "tup1[1:4]"
   ]
  },
  {
   "cell_type": "code",
   "execution_count": 77,
   "id": "caa3b9d9",
   "metadata": {},
   "outputs": [
    {
     "ename": "TypeError",
     "evalue": "'tuple' object does not support item assignment",
     "output_type": "error",
     "traceback": [
      "\u001b[1;31m---------------------------------------------------------------------------\u001b[0m",
      "\u001b[1;31mTypeError\u001b[0m                                 Traceback (most recent call last)",
      "\u001b[1;32m~\\AppData\\Local\\Temp\\ipykernel_113032\\1180074819.py\u001b[0m in \u001b[0;36m<module>\u001b[1;34m\u001b[0m\n\u001b[0;32m      1\u001b[0m \u001b[1;31m#modifying a tuple---not allowed\u001b[0m\u001b[1;33m\u001b[0m\u001b[1;33m\u001b[0m\u001b[0m\n\u001b[1;32m----> 2\u001b[1;33m \u001b[0mtup1\u001b[0m\u001b[1;33m[\u001b[0m\u001b[1;36m2\u001b[0m\u001b[1;33m]\u001b[0m\u001b[1;33m=\u001b[0m\u001b[1;34m\"hello\"\u001b[0m\u001b[1;33m\u001b[0m\u001b[1;33m\u001b[0m\u001b[0m\n\u001b[0m",
      "\u001b[1;31mTypeError\u001b[0m: 'tuple' object does not support item assignment"
     ]
    }
   ],
   "source": [
    "#modifying a tuple---not allowed\n",
    "tup1[2]=\"hello\"\n"
   ]
  },
  {
   "cell_type": "markdown",
   "id": "8039d7de",
   "metadata": {},
   "source": [
    "##### Tuple operations\n",
    "#length\n",
    "#concatenating tuple \n",
    "#repeating\n",
    "#repeating and concatenating\n"
   ]
  },
  {
   "cell_type": "code",
   "execution_count": 79,
   "id": "b3d463c5",
   "metadata": {},
   "outputs": [
    {
     "data": {
      "text/plain": [
       "4"
      ]
     },
     "execution_count": 79,
     "metadata": {},
     "output_type": "execute_result"
    }
   ],
   "source": [
    "len(tup1)"
   ]
  },
  {
   "cell_type": "code",
   "execution_count": 80,
   "id": "7804bc8f",
   "metadata": {},
   "outputs": [
    {
     "data": {
      "text/plain": [
       "(1, True, 'Hello world', 3.14)"
      ]
     },
     "execution_count": 80,
     "metadata": {},
     "output_type": "execute_result"
    }
   ],
   "source": [
    "tup1"
   ]
  },
  {
   "cell_type": "code",
   "execution_count": 81,
   "id": "baa0610e",
   "metadata": {},
   "outputs": [],
   "source": [
    "tup2=(1,2,3,4)"
   ]
  },
  {
   "cell_type": "code",
   "execution_count": 82,
   "id": "7275d694",
   "metadata": {},
   "outputs": [
    {
     "data": {
      "text/plain": [
       "(1, True, 'Hello world', 3.14, 1, 2, 3, 4)"
      ]
     },
     "execution_count": 82,
     "metadata": {},
     "output_type": "execute_result"
    }
   ],
   "source": [
    "#concatenating----adds to end(adds tup2 at end of tup1)\n",
    "tup1+tup()"
   ]
  },
  {
   "cell_type": "code",
   "execution_count": 83,
   "id": "f8d94926",
   "metadata": {},
   "outputs": [
    {
     "data": {
      "text/plain": [
       "(1, 2, 3, 4, 1, True, 'Hello world', 3.14)"
      ]
     },
     "execution_count": 83,
     "metadata": {},
     "output_type": "execute_result"
    }
   ],
   "source": [
    "#(adds tup1 at end of tup2)\n",
    "tup2+tup1"
   ]
  },
  {
   "cell_type": "code",
   "execution_count": 84,
   "id": "330e62b6",
   "metadata": {},
   "outputs": [
    {
     "data": {
      "text/plain": [
       "('saloni', 22, 'saloni', 22, 'saloni', 22)"
      ]
     },
     "execution_count": 84,
     "metadata": {},
     "output_type": "execute_result"
    }
   ],
   "source": [
    "#Repeating tuple Element\n",
    "tup1=(\"saloni\",22)\n",
    "tup1*3"
   ]
  },
  {
   "cell_type": "code",
   "execution_count": 85,
   "id": "be66e053",
   "metadata": {},
   "outputs": [
    {
     "data": {
      "text/plain": [
       "('sparta', 300, 'sparta', 300, 'sparta', 300, 4, 5, 6)"
      ]
     },
     "execution_count": 85,
     "metadata": {},
     "output_type": "execute_result"
    }
   ],
   "source": [
    "#Repeating and concatenating\n",
    "tup1=('sparta',300)\n",
    "tup2=(4,5,6)\n",
    "tup1*3+tup2"
   ]
  },
  {
   "cell_type": "markdown",
   "id": "eabe54f4",
   "metadata": {},
   "source": [
    "### Tuple functions\n",
    "#maximum\n",
    "#minimum\n"
   ]
  },
  {
   "cell_type": "code",
   "execution_count": 88,
   "id": "54343865",
   "metadata": {},
   "outputs": [
    {
     "data": {
      "text/plain": [
       "1"
      ]
     },
     "execution_count": 88,
     "metadata": {},
     "output_type": "execute_result"
    }
   ],
   "source": [
    "#Minimum value\n",
    "tup1=(1,2,3,4,5,6)\n",
    "min(tup1)"
   ]
  },
  {
   "cell_type": "code",
   "execution_count": 89,
   "id": "2a1a9d71",
   "metadata": {},
   "outputs": [
    {
     "data": {
      "text/plain": [
       "6"
      ]
     },
     "execution_count": 89,
     "metadata": {},
     "output_type": "execute_result"
    }
   ],
   "source": [
    "#Maximum value\n",
    "max(tup1)"
   ]
  },
  {
   "cell_type": "markdown",
   "id": "06691333",
   "metadata": {},
   "source": [
    "### List\n",
    "##### ordered collection of elements enclosed within[x]\n",
    "##### list are mutable\n",
    "##### hetrogenous character"
   ]
  },
  {
   "cell_type": "code",
   "execution_count": 91,
   "id": "58052688",
   "metadata": {},
   "outputs": [
    {
     "data": {
      "text/plain": [
       "[1, 'a', 2, 3.14, True]"
      ]
     },
     "execution_count": 91,
     "metadata": {},
     "output_type": "execute_result"
    }
   ],
   "source": [
    "list1=[1,\"a\",2,3.14,True]\n",
    "list1"
   ]
  },
  {
   "cell_type": "code",
   "execution_count": 92,
   "id": "d4f8a6e1",
   "metadata": {},
   "outputs": [
    {
     "data": {
      "text/plain": [
       "3.14"
      ]
     },
     "execution_count": 92,
     "metadata": {},
     "output_type": "execute_result"
    }
   ],
   "source": [
    "#Extracting individual elements slicing\n",
    "list1[3]\n"
   ]
  },
  {
   "cell_type": "code",
   "execution_count": 93,
   "id": "c46d9467",
   "metadata": {},
   "outputs": [
    {
     "data": {
      "text/plain": [
       "['a', 2]"
      ]
     },
     "execution_count": 93,
     "metadata": {},
     "output_type": "execute_result"
    }
   ],
   "source": [
    "list1[1:3]"
   ]
  },
  {
   "cell_type": "code",
   "execution_count": 94,
   "id": "efa768da",
   "metadata": {},
   "outputs": [],
   "source": [
    "#Modifying a list\n"
   ]
  },
  {
   "cell_type": "code",
   "execution_count": 95,
   "id": "1e079ccb",
   "metadata": {},
   "outputs": [
    {
     "data": {
      "text/plain": [
       "[100, 'a', 2, 3.14, True]"
      ]
     },
     "execution_count": 95,
     "metadata": {},
     "output_type": "execute_result"
    }
   ],
   "source": [
    "#changing element at 0th index\n",
    "list1[0]=100\n",
    "list1"
   ]
  },
  {
   "cell_type": "code",
   "execution_count": 96,
   "id": "ea127e71",
   "metadata": {},
   "outputs": [
    {
     "data": {
      "text/plain": [
       "[100, 'a', 2, 3.14]"
      ]
     },
     "execution_count": 96,
     "metadata": {},
     "output_type": "execute_result"
    }
   ],
   "source": [
    "#popping the last element\n",
    "list1.pop()\n",
    "list1"
   ]
  },
  {
   "cell_type": "code",
   "execution_count": 97,
   "id": "fb1181a4",
   "metadata": {},
   "outputs": [
    {
     "data": {
      "text/plain": [
       "[100, 'a', 2, 3.14, 'saloni']"
      ]
     },
     "execution_count": 97,
     "metadata": {},
     "output_type": "execute_result"
    }
   ],
   "source": [
    "#appending a new element\n",
    "list1.append(\"saloni\")\n",
    "list1"
   ]
  },
  {
   "cell_type": "code",
   "execution_count": 103,
   "id": "612abed5",
   "metadata": {},
   "outputs": [
    {
     "data": {
      "text/plain": [
       "[100, 'a', 2, 3.14, 'saloni']"
      ]
     },
     "execution_count": 103,
     "metadata": {},
     "output_type": "execute_result"
    }
   ],
   "source": [
    "#Reversing element of list\n",
    "list1.reverse()\n",
    "list1"
   ]
  },
  {
   "cell_type": "code",
   "execution_count": 105,
   "id": "639b8b71",
   "metadata": {},
   "outputs": [
    {
     "data": {
      "text/plain": [
       "[100, 'a', 2, 'hello', 'hello', 3.14, 'saloni']"
      ]
     },
     "execution_count": 105,
     "metadata": {},
     "output_type": "execute_result"
    }
   ],
   "source": [
    "#insert\n",
    "list1.insert(3,\"hello\")\n",
    "list1"
   ]
  },
  {
   "cell_type": "code",
   "execution_count": 111,
   "id": "72067d02",
   "metadata": {},
   "outputs": [
    {
     "data": {
      "text/plain": [
       "[1, 2, 3, 4, 5, 6]"
      ]
     },
     "execution_count": 111,
     "metadata": {},
     "output_type": "execute_result"
    }
   ],
   "source": [
    "#sorting a list\n",
    "list2=[1,2,3,4,5,6]\n",
    "list2\n",
    "list2.sort()\n",
    "list2\n"
   ]
  },
  {
   "cell_type": "code",
   "execution_count": 112,
   "id": "7fc81887",
   "metadata": {},
   "outputs": [
    {
     "data": {
      "text/plain": [
       "[100, 'a', 2, 'hello', 'hello', 3.14, 'saloni']"
      ]
     },
     "execution_count": 112,
     "metadata": {},
     "output_type": "execute_result"
    }
   ],
   "source": [
    "list1"
   ]
  },
  {
   "cell_type": "code",
   "execution_count": 114,
   "id": "7a791a42",
   "metadata": {},
   "outputs": [],
   "source": [
    "##list basic operation\n",
    "###concatenating list\n",
    "###Repeating element"
   ]
  },
  {
   "cell_type": "code",
   "execution_count": 115,
   "id": "25e831ca",
   "metadata": {},
   "outputs": [
    {
     "data": {
      "text/plain": [
       "[1, 2, 3, 'a', 'b', 'c']"
      ]
     },
     "execution_count": 115,
     "metadata": {},
     "output_type": "execute_result"
    }
   ],
   "source": [
    "##cocatenating list\n",
    "list1=[1,2,3]\n",
    "list2=[\"a\",\"b\",\"c\"]\n",
    "list1+list2"
   ]
  },
  {
   "cell_type": "code",
   "execution_count": 116,
   "id": "c899c8eb",
   "metadata": {},
   "outputs": [
    {
     "data": {
      "text/plain": [
       "[1, 2, 3, 1, 2, 3, 1, 2, 3]"
      ]
     },
     "execution_count": 116,
     "metadata": {},
     "output_type": "execute_result"
    }
   ],
   "source": [
    "#repeating elements\n",
    "list1*3"
   ]
  },
  {
   "cell_type": "markdown",
   "id": "91ceb718",
   "metadata": {},
   "source": [
    "### Dictionary in python\n",
    "##### unordered collection of key value pairs enclosed with{x}\n",
    "#### mutable"
   ]
  },
  {
   "cell_type": "code",
   "execution_count": 117,
   "id": "2576d0ba",
   "metadata": {},
   "outputs": [
    {
     "data": {
      "text/plain": [
       "{'apple': 50, 'mango': 40, 'guava': 30}"
      ]
     },
     "execution_count": 117,
     "metadata": {},
     "output_type": "execute_result"
    }
   ],
   "source": [
    "dic1={\"apple\":50,\"mango\":40,\"guava\":30}\n",
    "dic1"
   ]
  },
  {
   "cell_type": "code",
   "execution_count": 119,
   "id": "68803407",
   "metadata": {},
   "outputs": [
    {
     "data": {
      "text/plain": [
       "dict"
      ]
     },
     "execution_count": 119,
     "metadata": {},
     "output_type": "execute_result"
    }
   ],
   "source": [
    "type(dic1)"
   ]
  },
  {
   "cell_type": "code",
   "execution_count": 124,
   "id": "5d13d2cb",
   "metadata": {},
   "outputs": [],
   "source": [
    " #Extracting keys and values\n",
    "    #Adding\n",
    "    #change\n",
    "    "
   ]
  },
  {
   "cell_type": "code",
   "execution_count": 122,
   "id": "2e3a1ba1",
   "metadata": {},
   "outputs": [
    {
     "data": {
      "text/plain": [
       "dict_keys(['apple', 'mango', 'guava'])"
      ]
     },
     "execution_count": 122,
     "metadata": {},
     "output_type": "execute_result"
    }
   ],
   "source": [
    "#extracting keys\n",
    "dic1.keys()"
   ]
  },
  {
   "cell_type": "code",
   "execution_count": 125,
   "id": "8d1cb1c3",
   "metadata": {},
   "outputs": [
    {
     "data": {
      "text/plain": [
       "dict_values([50, 40, 30])"
      ]
     },
     "execution_count": 125,
     "metadata": {},
     "output_type": "execute_result"
    }
   ],
   "source": [
    "dic1.values()"
   ]
  },
  {
   "cell_type": "code",
   "execution_count": 127,
   "id": "74f896a8",
   "metadata": {},
   "outputs": [],
   "source": [
    "#adding\n",
    "dic1[\"lichi\"]=70"
   ]
  },
  {
   "cell_type": "code",
   "execution_count": 128,
   "id": "588f354c",
   "metadata": {},
   "outputs": [
    {
     "data": {
      "text/plain": [
       "{'apple': 50, 'mango': 40, 'guava': 30, 'lichi': 70}"
      ]
     },
     "execution_count": 128,
     "metadata": {},
     "output_type": "execute_result"
    }
   ],
   "source": [
    "dic1"
   ]
  },
  {
   "cell_type": "code",
   "execution_count": 130,
   "id": "e9fab35b",
   "metadata": {},
   "outputs": [],
   "source": [
    "#changing\n",
    "dic1[\"apple\"]=100"
   ]
  },
  {
   "cell_type": "code",
   "execution_count": 137,
   "id": "9dc9275e",
   "metadata": {},
   "outputs": [
    {
     "data": {
      "text/plain": [
       "{'apple': 100, 'mango': 40, 'guava': 30, 'lichi': 70}"
      ]
     },
     "execution_count": 137,
     "metadata": {},
     "output_type": "execute_result"
    }
   ],
   "source": [
    "dic1"
   ]
  },
  {
   "cell_type": "code",
   "execution_count": null,
   "id": "7bf56dde",
   "metadata": {},
   "outputs": [],
   "source": [
    "#Dictionary Functions\n",
    "#update\n",
    "#pop"
   ]
  },
  {
   "cell_type": "code",
   "execution_count": 133,
   "id": "07e28553",
   "metadata": {},
   "outputs": [
    {
     "data": {
      "text/plain": [
       "{'apple': 10, 'mango': 20, 'banana': 30, 'guava': 40}"
      ]
     },
     "execution_count": 133,
     "metadata": {},
     "output_type": "execute_result"
    }
   ],
   "source": [
    "#update one dictionary element with another\n",
    "fruit1={\"apple\":10,\"mango\":20}\n",
    "fruit2={\"banana\":30,\"guava\":40}\n",
    "\n",
    "fruit1.update(fruit2)\n",
    "fruit1"
   ]
  },
  {
   "cell_type": "code",
   "execution_count": 138,
   "id": "8daffd9f",
   "metadata": {},
   "outputs": [
    {
     "data": {
      "text/plain": [
       "10"
      ]
     },
     "execution_count": 138,
     "metadata": {},
     "output_type": "execute_result"
    }
   ],
   "source": [
    "#popping elements\n",
    "fruit1.pop(\"apple\")"
   ]
  },
  {
   "cell_type": "code",
   "execution_count": 139,
   "id": "e62c5efc",
   "metadata": {},
   "outputs": [
    {
     "data": {
      "text/plain": [
       "{'mango': 20, 'banana': 30, 'guava': 40}"
      ]
     },
     "execution_count": 139,
     "metadata": {},
     "output_type": "execute_result"
    }
   ],
   "source": [
    "fruit1"
   ]
  },
  {
   "cell_type": "markdown",
   "id": "1b185b0b",
   "metadata": {},
   "source": [
    "### Set\n",
    "##### unordered and unindexed  collection of elements enclosed with {x}\n",
    "##### dublicates not allowed"
   ]
  },
  {
   "cell_type": "code",
   "execution_count": 142,
   "id": "c6ca53c9",
   "metadata": {},
   "outputs": [],
   "source": [
    "set1={3,3.14,\"sparta\"}"
   ]
  },
  {
   "cell_type": "code",
   "execution_count": 143,
   "id": "6daeabd3",
   "metadata": {},
   "outputs": [
    {
     "data": {
      "text/plain": [
       "{3, 3.14, 'sparta'}"
      ]
     },
     "execution_count": 143,
     "metadata": {},
     "output_type": "execute_result"
    }
   ],
   "source": [
    "set1"
   ]
  },
  {
   "cell_type": "code",
   "execution_count": 144,
   "id": "248eb6b0",
   "metadata": {},
   "outputs": [],
   "source": [
    "#Set operation\n",
    "#update dictionary elements\n",
    "#removing an element\n",
    "#updating multiple elements"
   ]
  },
  {
   "cell_type": "code",
   "execution_count": 145,
   "id": "a2843f77",
   "metadata": {},
   "outputs": [
    {
     "data": {
      "text/plain": [
       "{3, 3.14, 'hello', 'sparta'}"
      ]
     },
     "execution_count": 145,
     "metadata": {},
     "output_type": "execute_result"
    }
   ],
   "source": [
    "#updating one dictionary's element with another\n",
    "set1.add(\"hello\")\n",
    "set1"
   ]
  },
  {
   "cell_type": "code",
   "execution_count": 147,
   "id": "8a756d25",
   "metadata": {},
   "outputs": [
    {
     "data": {
      "text/plain": [
       "{3, 3.14, 'hello'}"
      ]
     },
     "execution_count": 147,
     "metadata": {},
     "output_type": "execute_result"
    }
   ],
   "source": [
    "#removing\n",
    "set1.remove(\"sparta\")\n",
    "set1"
   ]
  },
  {
   "cell_type": "code",
   "execution_count": 148,
   "id": "cf51c66a",
   "metadata": {},
   "outputs": [
    {
     "data": {
      "text/plain": [
       "{10, 20, 3, 3.14, 30, 'hello'}"
      ]
     },
     "execution_count": 148,
     "metadata": {},
     "output_type": "execute_result"
    }
   ],
   "source": [
    "#updating multiple element\n",
    "set1.update([10,20,30])\n",
    "set1"
   ]
  },
  {
   "cell_type": "code",
   "execution_count": 150,
   "id": "e247ea6a",
   "metadata": {},
   "outputs": [
    {
     "data": {
      "text/plain": [
       "{1, 2, 3, 'a', 'b', 'c'}"
      ]
     },
     "execution_count": 150,
     "metadata": {},
     "output_type": "execute_result"
    }
   ],
   "source": [
    "#set functions\n",
    "#union of two sets\n",
    "#intersection of two sets\n",
    "\n",
    "s1={1,2,3}\n",
    "s2={\"a\",\"b\",\"c\"}\n",
    "\n",
    "s1.union(s2)"
   ]
  },
  {
   "cell_type": "code",
   "execution_count": 151,
   "id": "3974d026",
   "metadata": {},
   "outputs": [
    {
     "data": {
      "text/plain": [
       "{6}"
      ]
     },
     "execution_count": 151,
     "metadata": {},
     "output_type": "execute_result"
    }
   ],
   "source": [
    "s1={1,2,3,4,6}\n",
    "s2={5,6,7,9,0}\n",
    "s1.intersection(s2)"
   ]
  },
  {
   "cell_type": "markdown",
   "id": "d68c5370",
   "metadata": {},
   "source": [
    "### Dicision making statements\n",
    "#### if else statement"
   ]
  },
  {
   "cell_type": "code",
   "execution_count": 152,
   "id": "26adf1a1",
   "metadata": {},
   "outputs": [],
   "source": [
    "a=10\n",
    "b=20\n"
   ]
  },
  {
   "cell_type": "code",
   "execution_count": 153,
   "id": "f98ab8fa",
   "metadata": {},
   "outputs": [
    {
     "name": "stdout",
     "output_type": "stream",
     "text": [
      "b is greater than a\n"
     ]
    }
   ],
   "source": [
    "if b>a:\n",
    "    print(\"b is greater than a\")"
   ]
  },
  {
   "cell_type": "code",
   "execution_count": 155,
   "id": "a6c74833",
   "metadata": {},
   "outputs": [],
   "source": [
    "if a>b:\n",
    "    print(\"b is greater than a\") #unable to print because here else statement is not given"
   ]
  },
  {
   "cell_type": "code",
   "execution_count": 156,
   "id": "95655ad3",
   "metadata": {},
   "outputs": [
    {
     "name": "stdout",
     "output_type": "stream",
     "text": [
      "a is greater than b\n"
     ]
    }
   ],
   "source": [
    "if a>b:\n",
    "    print(\"b is greater than a\")\n",
    "else:\n",
    "    print(\"a is greater than b\")"
   ]
  },
  {
   "cell_type": "code",
   "execution_count": 157,
   "id": "e1ebcea4",
   "metadata": {},
   "outputs": [],
   "source": [
    "a=10\n",
    "b=20\n",
    "c=40\n"
   ]
  },
  {
   "cell_type": "code",
   "execution_count": 158,
   "id": "4d718be8",
   "metadata": {},
   "outputs": [
    {
     "name": "stdout",
     "output_type": "stream",
     "text": [
      "c is the greatest\n"
     ]
    }
   ],
   "source": [
    "if (a>b) & (a>c):\n",
    "    print(\"a is the greatest\")\n",
    "elif (b>a)&(b>c):\n",
    "    print(\"b is the greatest\")\n",
    "else:\n",
    "    print(\"c is the greatest\")"
   ]
  },
  {
   "cell_type": "code",
   "execution_count": 159,
   "id": "dc93747b",
   "metadata": {},
   "outputs": [],
   "source": [
    "#if with tuple"
   ]
  },
  {
   "cell_type": "code",
   "execution_count": 160,
   "id": "42fc9d25",
   "metadata": {},
   "outputs": [],
   "source": [
    "tup1=(\"a\",\"b\",\"c\")"
   ]
  },
  {
   "cell_type": "code",
   "execution_count": 161,
   "id": "628ae633",
   "metadata": {},
   "outputs": [
    {
     "data": {
      "text/plain": [
       "('a', 'b', 'c')"
      ]
     },
     "execution_count": 161,
     "metadata": {},
     "output_type": "execute_result"
    }
   ],
   "source": [
    "tup1"
   ]
  },
  {
   "cell_type": "code",
   "execution_count": 174,
   "id": "7f8a1f67",
   "metadata": {},
   "outputs": [
    {
     "name": "stdout",
     "output_type": "stream",
     "text": [
      "presnt\n"
     ]
    }
   ],
   "source": [
    "if \"a\" in tup1:\n",
    "    print(\"presnt\")\n",
    "else:\n",
    "    print(false)\n"
   ]
  },
  {
   "cell_type": "code",
   "execution_count": 164,
   "id": "89df0f7d",
   "metadata": {},
   "outputs": [],
   "source": [
    "#if with list\n",
    "list1=[\"a\",\"b\",\"c\",\"mango\"]"
   ]
  },
  {
   "cell_type": "code",
   "execution_count": 165,
   "id": "d7c80f6f",
   "metadata": {},
   "outputs": [
    {
     "data": {
      "text/plain": [
       "['a', 'b', 'c', 'mango']"
      ]
     },
     "execution_count": 165,
     "metadata": {},
     "output_type": "execute_result"
    }
   ],
   "source": [
    "list1"
   ]
  },
  {
   "cell_type": "code",
   "execution_count": 169,
   "id": "e344d23e",
   "metadata": {},
   "outputs": [
    {
     "name": "stdout",
     "output_type": "stream",
     "text": [
      "true\n"
     ]
    }
   ],
   "source": [
    "if list1[1]==\"b\":\n",
    "    print(\"true\")\n",
    "else:\n",
    "    print(False)"
   ]
  },
  {
   "cell_type": "code",
   "execution_count": 172,
   "id": "d5f04b0d",
   "metadata": {},
   "outputs": [],
   "source": [
    "if list1[2]==\"c\":\n",
    "    list1[2]=\"saloni\""
   ]
  },
  {
   "cell_type": "code",
   "execution_count": 173,
   "id": "29f5d975",
   "metadata": {},
   "outputs": [
    {
     "data": {
      "text/plain": [
       "['a', 'b', 'saloni', 'mango']"
      ]
     },
     "execution_count": 173,
     "metadata": {},
     "output_type": "execute_result"
    }
   ],
   "source": [
    "list1"
   ]
  },
  {
   "cell_type": "code",
   "execution_count": 175,
   "id": "1b9b584f",
   "metadata": {},
   "outputs": [],
   "source": [
    "#if with dictionary\n",
    "dic1={\"k1\":10,\"k2\":20,\"k3\":30}"
   ]
  },
  {
   "cell_type": "code",
   "execution_count": 176,
   "id": "772663bf",
   "metadata": {},
   "outputs": [
    {
     "data": {
      "text/plain": [
       "{'k1': 10, 'k2': 20, 'k3': 30}"
      ]
     },
     "execution_count": 176,
     "metadata": {},
     "output_type": "execute_result"
    }
   ],
   "source": [
    "dic1"
   ]
  },
  {
   "cell_type": "code",
   "execution_count": 178,
   "id": "145755b2",
   "metadata": {},
   "outputs": [],
   "source": [
    "if dic1[\"k3\"]==30:\n",
    "    dic1[\"k3\"]=dic1[\"k3\"]+100"
   ]
  },
  {
   "cell_type": "code",
   "execution_count": 179,
   "id": "8ae28b9e",
   "metadata": {},
   "outputs": [
    {
     "data": {
      "text/plain": [
       "{'k1': 10, 'k2': 20, 'k3': 130}"
      ]
     },
     "execution_count": 179,
     "metadata": {},
     "output_type": "execute_result"
    }
   ],
   "source": [
    "dic1"
   ]
  },
  {
   "cell_type": "markdown",
   "id": "dd6aef9c",
   "metadata": {},
   "source": [
    "#### Looping statement\n",
    "use to repeat the task"
   ]
  },
  {
   "cell_type": "code",
   "execution_count": 180,
   "id": "6e3aeabb",
   "metadata": {},
   "outputs": [
    {
     "name": "stdout",
     "output_type": "stream",
     "text": [
      "1\n",
      "2\n",
      "3\n",
      "4\n",
      "5\n",
      "6\n",
      "7\n",
      "8\n",
      "9\n",
      "10\n"
     ]
    }
   ],
   "source": [
    "#while loop\n",
    "\n",
    "i=1\n",
    "while i<=10:\n",
    "    print(i)\n",
    "    i=i+1"
   ]
  },
  {
   "cell_type": "code",
   "execution_count": 181,
   "id": "f09d347d",
   "metadata": {},
   "outputs": [
    {
     "name": "stdout",
     "output_type": "stream",
     "text": [
      "2 * 1 = 2\n",
      "2 * 2 = 4\n",
      "2 * 3 = 6\n",
      "2 * 4 = 8\n",
      "2 * 5 = 10\n",
      "2 * 6 = 12\n",
      "2 * 7 = 14\n",
      "2 * 8 = 16\n",
      "2 * 9 = 18\n",
      "2 * 10 = 20\n"
     ]
    }
   ],
   "source": [
    "i=1\n",
    "n=2\n",
    "while i<=10:\n",
    "    print(n,\"*\",i,\"=\",n*i)\n",
    "    i=i+1\n",
    "    "
   ]
  },
  {
   "cell_type": "code",
   "execution_count": 182,
   "id": "43138c39",
   "metadata": {},
   "outputs": [],
   "source": [
    "#while with list\n",
    "list1=[1,2,3,4,5]"
   ]
  },
  {
   "cell_type": "code",
   "execution_count": 184,
   "id": "c38e8515",
   "metadata": {},
   "outputs": [],
   "source": [
    "#add 100 in every value\n",
    "i=0\n",
    "while i<len(list1):\n",
    "    list1[i]=list1[i]+100\n",
    "    i=i+1"
   ]
  },
  {
   "cell_type": "code",
   "execution_count": 185,
   "id": "472d9ff9",
   "metadata": {},
   "outputs": [
    {
     "data": {
      "text/plain": [
       "[101, 102, 103, 104, 105]"
      ]
     },
     "execution_count": 185,
     "metadata": {},
     "output_type": "execute_result"
    }
   ],
   "source": [
    "list1"
   ]
  },
  {
   "cell_type": "markdown",
   "id": "b6f1a8bf",
   "metadata": {},
   "source": [
    "##### For loop\n",
    "used to iterate over a sequence(tuple,list,dictionary..)"
   ]
  },
  {
   "cell_type": "code",
   "execution_count": 186,
   "id": "0ffe2598",
   "metadata": {},
   "outputs": [],
   "source": [
    "list1=[\"mango\",\"apple\",\"orange\"]"
   ]
  },
  {
   "cell_type": "code",
   "execution_count": 187,
   "id": "b120ffb9",
   "metadata": {},
   "outputs": [
    {
     "name": "stdout",
     "output_type": "stream",
     "text": [
      "mango\n",
      "apple\n",
      "orange\n"
     ]
    }
   ],
   "source": [
    "for i in list1:\n",
    "    print(i)"
   ]
  },
  {
   "cell_type": "code",
   "execution_count": 189,
   "id": "c1ca8fd2",
   "metadata": {},
   "outputs": [],
   "source": [
    "list1=[\"orange\",\"black\",\"white\"]\n",
    "list2=[\"chair\",\"book\",\"laptop\"]\n"
   ]
  },
  {
   "cell_type": "code",
   "execution_count": 190,
   "id": "4f686084",
   "metadata": {},
   "outputs": [
    {
     "name": "stdout",
     "output_type": "stream",
     "text": [
      "orange chairchair\n",
      "orange bookbook\n",
      "orange laptoplaptop\n",
      "black chairchair\n",
      "black bookbook\n",
      "black laptoplaptop\n",
      "white chairchair\n",
      "white bookbook\n",
      "white laptoplaptop\n"
     ]
    }
   ],
   "source": [
    "for i in list1:\n",
    "    for j in list2:\n",
    "        print(i,j*2)"
   ]
  },
  {
   "cell_type": "code",
   "execution_count": null,
   "id": "7668cd34",
   "metadata": {},
   "outputs": [],
   "source": []
  }
 ],
 "metadata": {
  "kernelspec": {
   "display_name": "Python 3 (ipykernel)",
   "language": "python",
   "name": "python3"
  },
  "language_info": {
   "codemirror_mode": {
    "name": "ipython",
    "version": 3
   },
   "file_extension": ".py",
   "mimetype": "text/x-python",
   "name": "python",
   "nbconvert_exporter": "python",
   "pygments_lexer": "ipython3",
   "version": "3.9.13"
  }
 },
 "nbformat": 4,
 "nbformat_minor": 5
}
